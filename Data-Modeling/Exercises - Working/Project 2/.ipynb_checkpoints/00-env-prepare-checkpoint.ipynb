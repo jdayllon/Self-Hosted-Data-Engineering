{
 "cells": [
  {
   "cell_type": "markdown",
   "metadata": {},
   "source": [
    "# Project 1B: Creating an Env for Apache Cassandra\n",
    "<img src=\"https://upload.wikimedia.org/wikipedia/commons/5/5e/Cassandra_logo.svg\" width=\"250\" height=\"250\">"
   ]
  },
  {
   "cell_type": "markdown",
   "metadata": {},
   "source": [
    "Enviorenment creation for Project 1b based on Kubernetes"
   ]
  },
  {
   "cell_type": "markdown",
   "metadata": {},
   "source": [
    "<center><h1><span style='color:blue'>Environment preparation</span></h1></center>\n",
    "\n",
    "Udacity environment has been prepared to ease student task, i.e. has a Postgres instance available for training exercises.\n",
    "\n",
    "Let's create one based on Kubernetes.\n",
    "\n",
    "* Add Cassandra module to Python\n",
    "* Load in K8s Apache Cassandra"
   ]
  },
  {
   "cell_type": "code",
   "execution_count": 1,
   "metadata": {},
   "outputs": [
    {
     "name": "stdout",
     "output_type": "stream",
     "text": [
      "Requirement already satisfied: cassandra-driver in /Users/jdayllon/anaconda3/lib/python3.7/site-packages (3.20.2)\n",
      "Requirement already satisfied: six>=1.9 in /Users/jdayllon/anaconda3/lib/python3.7/site-packages (from cassandra-driver) (1.12.0)\n"
     ]
    }
   ],
   "source": [
    "# Load driver module for Apache Cassandra on Python\n",
    "!pip install cassandra-driver"
   ]
  },
  {
   "cell_type": "markdown",
   "metadata": {},
   "source": [
    "<h3><span style='color:blue'>Using K8S Cassandra</span></h3>\n",
    "​\n",
    "Obviously you need a k8s avaible like: Minikube, Minishift, Docker (with K8s)\n",
    "​\n",
    "Helm is need to, go to [helm.sh](http://helm.sh)"
   ]
  },
  {
   "cell_type": "code",
   "execution_count": 2,
   "metadata": {},
   "outputs": [],
   "source": [
    "from time import sleep"
   ]
  },
  {
   "cell_type": "code",
   "execution_count": 3,
   "metadata": {},
   "outputs": [],
   "source": [
    "#Checks if Helm V3 is available\n",
    "helm_version = !helm version --short\n",
    "assert helm_version[0][:2] == 'v3', \"Expected HELM version not available, visit https://helm.sh\""
   ]
  },
  {
   "cell_type": "code",
   "execution_count": 4,
   "metadata": {},
   "outputs": [
    {
     "name": "stdout",
     "output_type": "stream",
     "text": [
      "\"bitnami\" has been added to your repositories\n"
     ]
    }
   ],
   "source": [
    "!helm repo add bitnami https://charts.bitnami.com/bitnami"
   ]
  },
  {
   "cell_type": "code",
   "execution_count": 5,
   "metadata": {},
   "outputs": [],
   "source": [
    "CHART_INSTANCE_NAME = 'dend-p1b'"
   ]
  },
  {
   "cell_type": "code",
   "execution_count": 6,
   "metadata": {},
   "outputs": [
    {
     "name": "stdout",
     "output_type": "stream",
     "text": [
      "Overwriting dend-p1b-cassandra-customize.yaml\n"
     ]
    }
   ],
   "source": [
    "%%writefile dend-p1b-cassandra-customize.yaml\n",
    "service:\n",
    "    type: NodePort\n",
    "    nodePorts:\n",
    "        cql: 30942\n",
    "        rcp: 30160\n",
    "dbUser:\n",
    "    user: cassandra\n",
    "    password: password"
   ]
  },
  {
   "cell_type": "code",
   "execution_count": 7,
   "metadata": {},
   "outputs": [
    {
     "name": "stdout",
     "output_type": "stream",
     "text": [
      "NAME: dend-p1b\n",
      "LAST DEPLOYED: Sun Mar 22 14:41:21 2020\n",
      "NAMESPACE: default\n",
      "STATUS: deployed\n",
      "REVISION: 1\n",
      "TEST SUITE: None\n",
      "NOTES:\n",
      "** Please be patient while the chart is being deployed **\n",
      "\n",
      "Cassandra can be accessed through the following URLs from within the cluster:\n",
      "\n",
      "  - CQL: dend-p1b-cassandra.default.svc.cluster.local:9042\n",
      "  - Thrift: dend-p1b-cassandra.default.svc.cluster.local:9160\n",
      "\n",
      "To get your password run:\n",
      "\n",
      "   export CASSANDRA_PASSWORD=$(kubectl get secret --namespace default dend-p1b-cassandra -o jsonpath=\"{.data.cassandra-password}\" | base64 --decode)\n",
      "\n",
      "Check the cluster status by running:\n",
      "\n",
      "   kubectl exec -it --namespace default $(kubectl get pods --namespace default -l app=cassandra,release=dend-p1b -o jsonpath='{.items[0].metadata.name}') nodetool status\n",
      "\n",
      "To connect to your Cassandra cluster using CQL:\n",
      "\n",
      "1. Run a Cassandra pod that you can use as a client:\n",
      "\n",
      "   kubectl run --namespace default dend-p1b-cassandra-client --rm --tty -i --restart='Never' \\\n",
      "   --env CASSANDRA_PASSWORD=$CASSANDRA_PASSWORD \\\n",
      "    \\\n",
      "   --image docker.io/bitnami/cassandra:3.11.6-debian-10-r35 -- bash\n",
      "\n",
      "2. Connect using the cqlsh client:\n",
      "\n",
      "   cqlsh -u cassandra -p $CASSANDRA_PASSWORD dend-p1b-cassandra\n",
      "\n",
      "To connect to your database from outside the cluster execute the following commands:\n",
      "\n",
      "   export NODE_IP=$(kubectl get nodes --namespace default -o jsonpath=\"{.items[0].status.addresses[0].address}\")\n",
      "   export NODE_PORT=$(kubectl get --namespace default -o jsonpath=\"{.spec.ports[0].nodePort}\" services dend-p1b-cassandra)\n",
      "\n",
      "   cqlsh -u cassandra -p $CASSANDRA_PASSWORD $NODE_IP $NODE_PORT\n"
     ]
    }
   ],
   "source": [
    "helm_chart_out = !helm install {CHART_INSTANCE_NAME} bitnami/cassandra --values dend-p1b-cassandra-customize.yaml\n",
    "for c_out in helm_chart_out: print(c_out)"
   ]
  },
  {
   "cell_type": "code",
   "execution_count": 8,
   "metadata": {},
   "outputs": [
    {
     "name": "stdout",
     "output_type": "stream",
     "text": [
      "NAME                       READY   STATUS    RESTARTS   AGE\n",
      "pod/dend-p1b-cassandra-0   0/1     Pending   0          0s\n",
      "\n",
      "NAME                                  TYPE        CLUSTER-IP    EXTERNAL-IP   PORT(S)                                        AGE\n",
      "service/dend-p1b-cassandra            NodePort    10.98.153.0   <none>        9042:30942/TCP,9160:30002/TCP                  0s\n",
      "service/dend-p1b-cassandra-headless   ClusterIP   None          <none>        7000/TCP,7001/TCP,7199/TCP,9042/TCP,9160/TCP   0s\n",
      "service/kubernetes                    ClusterIP   10.96.0.1     <none>        443/TCP                                        41d\n",
      "\n",
      "NAME                                              STATUS   VOLUME                                     CAPACITY   ACCESS MODES   STORAGECLASS   AGE\n",
      "persistentvolumeclaim/data-dend-p1b-cassandra-0   Bound    pvc-7fc1d8ea-2bd4-4252-a21c-9ca8c59be012   8Gi        RWO            hostpath       0s\n"
     ]
    }
   ],
   "source": [
    "!kubectl get pod,svc,pvc"
   ]
  },
  {
   "cell_type": "code",
   "execution_count": null,
   "metadata": {},
   "outputs": [],
   "source": []
  }
 ],
 "metadata": {
  "kernelspec": {
   "display_name": "Python 3",
   "language": "python",
   "name": "python3"
  },
  "language_info": {
   "codemirror_mode": {
    "name": "ipython",
    "version": 3
   },
   "file_extension": ".py",
   "mimetype": "text/x-python",
   "name": "python",
   "nbconvert_exporter": "python",
   "pygments_lexer": "ipython3",
   "version": "3.7.3"
  }
 },
 "nbformat": 4,
 "nbformat_minor": 4
}
