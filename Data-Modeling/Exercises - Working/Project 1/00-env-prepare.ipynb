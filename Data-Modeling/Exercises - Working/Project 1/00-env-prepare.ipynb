{
 "cells": [
  {
   "cell_type": "markdown",
   "metadata": {},
   "source": [
    "# Project 1 : Prepare environment for Sparkify\n",
    "\n",
    "<img src=\"https://wiki.postgresql.org/images/a/a4/PostgreSQL_logo.3colors.svg\" width=\"250\" height=\"250\">"
   ]
  },
  {
   "cell_type": "markdown",
   "metadata": {},
   "source": [
    "<center><h1><span style='color:blue'>Environment preparation</span></h1></center>\n",
    "\n",
    "Udacity environment has been prepared to ease student task, i.e. has a Postgres instance available for training exercises.\n",
    "\n",
    "Let's create one based on Kubernetes.\n",
    "\n",
    "* Add Pyscopg2 module to Python\n",
    "* Load in K8s Postgresql"
   ]
  },
  {
   "cell_type": "code",
   "execution_count": null,
   "metadata": {},
   "outputs": [],
   "source": [
    "# Load package\n",
    "#!pip install psycopg2-binary\n",
    "#!pip install pandas --upgrade\n",
    "#!pip install sqlalchemy --upgrade # ORM for databases\n",
    "#!pip install ipython-sql --upgrade # SQL magic function"
   ]
  },
  {
   "cell_type": "markdown",
   "metadata": {},
   "source": [
    "<h3><span style='color:blue'>Using K8S PostgreSQL</span></h3>\n",
    "\n",
    "Obviously you need a k8s avaible like: Minikube, Minishift, Docker (with K8s)\n",
    "\n",
    "Helm is need to, go to [helm.sh](http://helm.sh)"
   ]
  },
  {
   "cell_type": "code",
   "execution_count": 1,
   "metadata": {},
   "outputs": [],
   "source": [
    "from time import sleep\n",
    "import os"
   ]
  },
  {
   "cell_type": "code",
   "execution_count": 2,
   "metadata": {},
   "outputs": [],
   "source": [
    "helm_version = !helm version --short\n",
    "assert helm_version[0][:2] == 'v3', \"Expected HELM version not available, visit https://helm.sh\"\n",
    "\n",
    "#!curl -fsSL -o /tmp/get_helm.sh https://raw.githubusercontent.com/helm/helm/master/scripts/get-helm-3\n",
    "#!chmod 700 /tmp/get_helm.sh\n",
    "#!ls -al /tmp/\n",
    "#!./get_helm.sh"
   ]
  },
  {
   "cell_type": "code",
   "execution_count": 3,
   "metadata": {},
   "outputs": [
    {
     "name": "stdout",
     "output_type": "stream",
     "text": [
      "\"bitnami\" has been added to your repositories\n"
     ]
    }
   ],
   "source": [
    "!helm repo add bitnami https://charts.bitnami.com/bitnami"
   ]
  },
  {
   "cell_type": "code",
   "execution_count": 4,
   "metadata": {},
   "outputs": [
    {
     "data": {
      "text/plain": [
       "'dend-p1-sparkify-postgresql'"
      ]
     },
     "execution_count": 4,
     "metadata": {},
     "output_type": "execute_result"
    }
   ],
   "source": [
    "CHART_INSTANCE_NAME = 'dend-p1-sparkify'\n",
    "os.environ['postgresql_port_instance_name'] = CHART_INSTANCE_NAME + \"-postgresql\"\n",
    "os.getenv('postgresql_port_instance_name')"
   ]
  },
  {
   "cell_type": "markdown",
   "metadata": {},
   "source": [
    "Let's write a YAML config file for Helm\n",
    "\n",
    "Reference: https://github.com/helm/charts/tree/master/stable/postgresql"
   ]
  },
  {
   "cell_type": "code",
   "execution_count": 5,
   "metadata": {},
   "outputs": [
    {
     "name": "stdout",
     "output_type": "stream",
     "text": [
      "Overwriting config_helm_pgsql.yaml\n"
     ]
    }
   ],
   "source": [
    "%%writefile config_helm_pgsql.yaml\n",
    "service:\n",
    "    type: NodePort\n",
    "    nodePort: 30432\n",
    "postgresqlUsername: postgres\n",
    "postgresqlPassword: password"
   ]
  },
  {
   "cell_type": "code",
   "execution_count": 6,
   "metadata": {},
   "outputs": [],
   "source": [
    "helm_chart_out = !helm install {CHART_INSTANCE_NAME} stable/postgresql -f config_helm_pgsql.yaml"
   ]
  },
  {
   "cell_type": "code",
   "execution_count": 7,
   "metadata": {},
   "outputs": [
    {
     "data": {
      "text/plain": [
       "'export NODE_PORT=$(kubectl get --namespace default -o jsonpath=\"{.spec.ports[0].nodePort}\" services dend-p1-sparkify-postgresql)'"
      ]
     },
     "execution_count": 7,
     "metadata": {},
     "output_type": "execute_result"
    }
   ],
   "source": [
    "postgresql_port_forward_command = helm_chart_out[-2].strip()\n",
    "os.environ['postgresql_port_forward_command'] = postgresql_port_forward_command\n",
    "os.getenv('postgresql_port_forward_command')"
   ]
  },
  {
   "cell_type": "code",
   "execution_count": 8,
   "metadata": {},
   "outputs": [
    {
     "name": "stdout",
     "output_type": "stream",
     "text": [
      "NAME                            READY   STATUS    RESTARTS   AGE\n",
      "dend-p1-sparkify-postgresql-0   0/1     Pending   0          1s\n",
      "NAME                            READY   STATUS    RESTARTS   AGE\n",
      "dend-p1-sparkify-postgresql-0   1/1     Running   0          27s\n"
     ]
    }
   ],
   "source": [
    "# Waits until postgresl is running on \n",
    "max_checks_postgresql_run = 20\n",
    "\n",
    "!kubectl get pods\n",
    "\n",
    "while max_checks_postgresql_run > 0:\n",
    "\n",
    "    postgres_is_running = !kubectl get pods|fgrep {CHART_INSTANCE_NAME}|fgrep \"1/1\"|fgrep \"Running\"\n",
    "    \n",
    "    if len(postgres_is_running) > 0 and not postgres_is_running[0] == 'No resources found.':\n",
    "        break\n",
    "    else:\n",
    "        sleep(5)\n",
    "\n",
    "        max_checks_postgresql_run -= 1\n",
    "\n",
    "!kubectl get pods\n",
    "assert max_checks_postgresql_run > 0, \"Probably Postgresql is not running\""
   ]
  },
  {
   "cell_type": "code",
   "execution_count": 9,
   "metadata": {},
   "outputs": [
    {
     "name": "stdout",
     "output_type": "stream",
     "text": [
      "NAME                                READY   STATUS    RESTARTS   AGE\n",
      "pod/dend-p1-sparkify-postgresql-0   1/1     Running   0          27s\n",
      "\n",
      "NAME                                           TYPE        CLUSTER-IP    EXTERNAL-IP   PORT(S)          AGE\n",
      "service/dend-p1-sparkify-postgresql            NodePort    10.111.69.5   <none>        5432:30432/TCP   27s\n",
      "service/dend-p1-sparkify-postgresql-headless   ClusterIP   None          <none>        5432/TCP         27s\n",
      "service/kubernetes                             ClusterIP   10.96.0.1     <none>        443/TCP          21d\n",
      "\n",
      "NAME                                                        CAPACITY   ACCESS MODES   RECLAIM POLICY   STATUS   CLAIM                                        STORAGECLASS   REASON   AGE\n",
      "persistentvolume/pvc-520df70d-1125-4b3f-a84b-356275308814   8Gi        RWO            Delete           Bound    default/data-dend-p1-sparkify-postgresql-0   hostpath                26s\n"
     ]
    }
   ],
   "source": [
    "!kubectl get po,svc,pv"
   ]
  },
  {
   "cell_type": "code",
   "execution_count": 10,
   "metadata": {},
   "outputs": [
    {
     "name": "stdout",
     "output_type": "stream",
     "text": [
      "kubectl run dend-p1-sparkify-postgresql-client --rm --tty -i --restart='Never' --namespace default --image docker.io/bitnami/postgresql:11.6.0-debian-9-r0 --env=\"PGPASSWORD=password\" --command -- psql --host dend-p1-sparkify-postgresql -U postgres -d postgres -p 5432 -c \n"
     ]
    }
   ],
   "source": [
    "# Getting console command to connect with current instance of postgres\n",
    "k8s_psql_command = helm_chart_out[19].strip().replace(\"$POSTGRES_PASSWORD\", \"password\") + \" -c \"\n",
    "print(k8s_psql_command)"
   ]
  },
  {
   "cell_type": "markdown",
   "metadata": {},
   "source": [
    "<h3><span style='color:blue'>Check Postgresql availibity</span></h3>\n",
    "We had created an Postgresql on a K8s infraestructure, next we will test if it is avaiable"
   ]
  },
  {
   "cell_type": "code",
   "execution_count": 11,
   "metadata": {},
   "outputs": [
    {
     "name": "stdout",
     "output_type": "stream",
     "text": [
      "                                                 version                        \n",
      "                         \n",
      "--------------------------------------------------------------------------------\n",
      "-------------------------\n",
      " PostgreSQL 11.6 on x86_64-pc-linux-gnu, compiled by gcc (Debian 6.3.0-18+deb9u1\n",
      ") 6.3.0 20170516, 64-bit\n",
      "(1 row)\n",
      "\n",
      "pod \"dend-p1-sparkify-postgresql-client\" deleted\n"
     ]
    }
   ],
   "source": [
    "# Checks postgresql connection\n",
    "select_1_postgresql_out = !{k8s_psql_command} 'SELECT 1;'\n",
    "assert len(select_1_postgresql_out) > 0, 'Postgresql -select 1- failed, check it'\n",
    "!{k8s_psql_command} 'SELECT version();'"
   ]
  },
  {
   "cell_type": "markdown",
   "metadata": {},
   "source": [
    "<h3><span style='color:blue'>Initialize Postgresql Sparkify DB for project #1</span></h3>"
   ]
  },
  {
   "cell_type": "code",
   "execution_count": 12,
   "metadata": {},
   "outputs": [
    {
     "name": "stdout",
     "output_type": "stream",
     "text": [
      "CREATE ROLE\n",
      "pod \"dend-p1-sparkify-postgresql-client\" deleted\n"
     ]
    }
   ],
   "source": [
    "!{k8s_psql_command} \"CREATE ROLE sparkify WITH LOGIN ENCRYPTED PASSWORD 'sparkify'\""
   ]
  },
  {
   "cell_type": "code",
   "execution_count": 13,
   "metadata": {},
   "outputs": [
    {
     "name": "stdout",
     "output_type": "stream",
     "text": [
      "ALTER ROLE\n",
      "pod \"dend-p1-sparkify-postgresql-client\" deleted\n"
     ]
    }
   ],
   "source": [
    "!{k8s_psql_command} 'alter user sparkify createdb;'"
   ]
  },
  {
   "cell_type": "code",
   "execution_count": 14,
   "metadata": {},
   "outputs": [
    {
     "name": "stdout",
     "output_type": "stream",
     "text": [
      "If you don't see a command prompt, try pressing enter.\n",
      "CREATE DATABASE\n",
      "pod \"dend-p1-sparkify-postgresql-client\" deleted\n"
     ]
    }
   ],
   "source": [
    "!{k8s_psql_command} 'create database sparkifydb WITH ENCODING utf8;'"
   ]
  },
  {
   "cell_type": "code",
   "execution_count": 15,
   "metadata": {},
   "outputs": [
    {
     "name": "stdout",
     "output_type": "stream",
     "text": [
      "GRANT\n",
      "pod \"dend-p1-sparkify-postgresql-client\" deleted\n"
     ]
    }
   ],
   "source": [
    "!{k8s_psql_command} 'grant all privileges on database sparkifydb to sparkify;'"
   ]
  },
  {
   "cell_type": "code",
   "execution_count": 16,
   "metadata": {},
   "outputs": [
    {
     "name": "stdout",
     "output_type": "stream",
     "text": [
      " usename  | usecreatedb \n",
      "----------+-------------\n",
      " postgres | t\n",
      " sparkify | t\n",
      "(2 rows)\n",
      "\n",
      "pod \"dend-p1-sparkify-postgresql-client\" deleted\n"
     ]
    }
   ],
   "source": [
    "!{k8s_psql_command} 'SELECT usename, usecreatedb FROM pg_user;'"
   ]
  },
  {
   "cell_type": "code",
   "execution_count": null,
   "metadata": {},
   "outputs": [],
   "source": []
  }
 ],
 "metadata": {
  "kernelspec": {
   "display_name": "Python 3",
   "language": "python",
   "name": "python3"
  },
  "language_info": {
   "codemirror_mode": {
    "name": "ipython",
    "version": 3
   },
   "file_extension": ".py",
   "mimetype": "text/x-python",
   "name": "python",
   "nbconvert_exporter": "python",
   "pygments_lexer": "ipython3",
   "version": "3.7.3"
  }
 },
 "nbformat": 4,
 "nbformat_minor": 4
}
