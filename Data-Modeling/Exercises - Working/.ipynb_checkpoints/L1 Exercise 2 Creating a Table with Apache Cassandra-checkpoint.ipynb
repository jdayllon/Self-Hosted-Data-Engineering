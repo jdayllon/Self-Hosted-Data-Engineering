{
 "cells": [
  {
   "cell_type": "markdown",
   "metadata": {},
   "source": [
    "# L1 Exercise 2: Creating a Table with Apache Cassandra\n",
    "<img src=\"https://upload.wikimedia.org/wikipedia/commons/5/5e/Cassandra_logo.svg\" width=\"250\" height=\"250\">"
   ]
  },
  {
   "cell_type": "markdown",
   "metadata": {},
   "source": [
    "### Walk through the basics of Apache Cassandra. Complete the following tasks:<li> Create a table in Apache Cassandra, <li> Insert rows of data,<li> Run a simple SQL query to validate the information. <br>\n",
    "`#####` denotes where the code needs to be completed.\n",
    "    \n",
    "Note: __Do not__ click the blue Preview button in the lower taskbar"
   ]
  },
  {
   "cell_type": "markdown",
   "metadata": {},
   "source": [
    "<center><h1><span style='color:blue'>Environment preparation</span></h1></center>\n",
    "\n",
    "Udacity environment has been prepared to ease student task, i.e. has a Postgres instance available for training exercises.\n",
    "\n",
    "Let's create one based on Kubernetes.\n",
    "\n",
    "* Add Cassandra module to Python\n",
    "* Load in K8s Apache Cassandra"
   ]
  },
  {
   "cell_type": "code",
   "execution_count": 1,
   "metadata": {},
   "outputs": [
    {
     "name": "stdout",
     "output_type": "stream",
     "text": [
      "Requirement already satisfied: cassandra-driver in /Users/jdayllon/anaconda3/lib/python3.7/site-packages (3.20.2)\r\n",
      "Requirement already satisfied: six>=1.9 in /Users/jdayllon/anaconda3/lib/python3.7/site-packages (from cassandra-driver) (1.12.0)\r\n"
     ]
    }
   ],
   "source": [
    "# Load driver module for Apache Cassandra on Python\n",
    "!pip install cassandra-driver"
   ]
  },
  {
   "cell_type": "markdown",
   "metadata": {},
   "source": [
    "<h3><span style='color:blue'>Using K8S Cassandra</span></h3>\n",
    "​\n",
    "Obviously you need a k8s avaible like: Minikube, Minishift, Docker (with K8s)\n",
    "​\n",
    "Helm is need to, go to [helm.sh](http://helm.sh)"
   ]
  },
  {
   "cell_type": "code",
   "execution_count": 2,
   "metadata": {},
   "outputs": [],
   "source": [
    "from time import sleep"
   ]
  },
  {
   "cell_type": "code",
   "execution_count": 3,
   "metadata": {},
   "outputs": [],
   "source": [
    "#Checks if Helm V3 is available\n",
    "helm_version = !helm version --short\n",
    "assert helm_version[0][:2] == 'v3', \"Expected HELM version not available, visit https://helm.sh\""
   ]
  },
  {
   "cell_type": "code",
   "execution_count": 4,
   "metadata": {},
   "outputs": [
    {
     "name": "stdout",
     "output_type": "stream",
     "text": [
      "\"bitnami\" has been added to your repositories\r\n"
     ]
    }
   ],
   "source": [
    "!helm repo add bitnami https://charts.bitnami.com/bitnami"
   ]
  },
  {
   "cell_type": "code",
   "execution_count": 5,
   "metadata": {},
   "outputs": [],
   "source": [
    "CHART_INSTANCE_NAME = 'dend-l1e2'"
   ]
  },
  {
   "cell_type": "code",
   "execution_count": 6,
   "metadata": {},
   "outputs": [
    {
     "name": "stdout",
     "output_type": "stream",
     "text": [
      "NAME: dend-l1e2\n",
      "LAST DEPLOYED: Sun Jan 19 13:43:57 2020\n",
      "NAMESPACE: default\n",
      "STATUS: deployed\n",
      "REVISION: 1\n",
      "TEST SUITE: None\n",
      "NOTES:\n",
      "** Please be patient while the chart is being deployed **\n",
      "\n",
      "Cassandra can be accessed through the following URLs from within the cluster:\n",
      "\n",
      "  - CQL: dend-l1e2-cassandra.default.svc.cluster.local:9042\n",
      "  - Thrift: dend-l1e2-cassandra.default.svc.cluster.local:9160\n",
      "\n",
      "To get your password run:\n",
      "\n",
      "   export CASSANDRA_PASSWORD=$(kubectl get secret --namespace default dend-l1e2-cassandra -o jsonpath=\"{.data.cassandra-password}\" | base64 --decode)\n",
      "\n",
      "Check the cluster status by running:\n",
      "\n",
      "   kubectl exec -it --namespace default $(kubectl get pods --namespace default -l app=cassandra,release=dend-l1e2 -o jsonpath='{.items[0].metadata.name}') nodetool status\n",
      "\n",
      "To connect to your Cassandra cluster using CQL:\n",
      "\n",
      "1. Run a Cassandra pod that you can use as a client:\n",
      "\n",
      "   kubectl run --namespace default dend-l1e2-cassandra-client --rm --tty -i --restart='Never' \\\n",
      "   --env CASSANDRA_PASSWORD=$CASSANDRA_PASSWORD \\\n",
      "    \\\n",
      "   --image docker.io/bitnami/cassandra:3.11.5-debian-9-r57 -- bash\n",
      "\n",
      "2. Connect using the cqlsh client:\n",
      "\n",
      "   cqlsh -u cassandra -p $CASSANDRA_PASSWORD dend-l1e2-cassandra\n",
      "\n",
      "To connect to your database from outside the cluster execute the following commands:\n",
      "\n",
      "   kubectl port-forward --namespace default svc/dend-l1e2-cassandra 9042:9042 &\n",
      "   cqlsh -u cassandra -p $CASSANDRA_PASSWORD 127.0.0.1 9042\n"
     ]
    }
   ],
   "source": [
    "helm_chart_out = !helm install {CHART_INSTANCE_NAME} bitnami/cassandra\n",
    "for c_out in helm_chart_out: print(c_out)"
   ]
  },
  {
   "cell_type": "code",
   "execution_count": 7,
   "metadata": {},
   "outputs": [],
   "source": [
    "cassandra_port_forward_command = helm_chart_out[-2].strip()"
   ]
  },
  {
   "cell_type": "code",
   "execution_count": 9,
   "metadata": {},
   "outputs": [
    {
     "name": "stdout",
     "output_type": "stream",
     "text": [
      "NAME                    READY   STATUS    RESTARTS   AGE\n",
      "dend-l1e2-cassandra-0   1/1     Running   0          2m47s\n",
      "NAME                    READY   STATUS    RESTARTS   AGE\n",
      "dend-l1e2-cassandra-0   1/1     Running   0          2m48s\n"
     ]
    }
   ],
   "source": [
    "# Waits until postgresl is running on \n",
    "max_checks_cassandra_run = 40\n",
    "\n",
    "!kubectl get pods\n",
    "\n",
    "while max_checks_cassandra_run > 0:\n",
    "\n",
    "    cassandra_is_running = !kubectl get pods|fgrep {CHART_INSTANCE_NAME}|fgrep \"1/1\"|fgrep \"Running\"\n",
    "    \n",
    "    if len(cassandra_is_running) > 0 and not cassandra_is_running[0] == 'No resources found.':\n",
    "        break\n",
    "    else:\n",
    "        sleep(5)\n",
    "\n",
    "        max_checks_cassandra_run -= 1\n",
    "\n",
    "!kubectl get pods\n",
    "assert max_checks_cassandra_run > 0, \"Probably Cassandra is not running\""
   ]
  },
  {
   "cell_type": "markdown",
   "metadata": {},
   "source": [
    "<h3><span style='color:blue'>Open Proxy to Cassandra on K8s</span></h3>\n",
    "Run next command in a separate terminal (if not run on Jupyter ;-))"
   ]
  },
  {
   "cell_type": "code",
   "execution_count": 10,
   "metadata": {},
   "outputs": [],
   "source": [
    "%%script env --bg bash --out console_out\n",
    "nohup kubectl port-forward --namespace default svc/dend-l1e2-cassandra 9042:9042 &"
   ]
  },
  {
   "cell_type": "code",
   "execution_count": 11,
   "metadata": {},
   "outputs": [],
   "source": [
    "# Checks if proxy is enabled\n",
    "pids_kubectl_proxy = !ps -ef|fgrep 'kubectl port-forward'|fgrep $CHART_INSTANCE_NAME|cut -d ' ' -f4\n",
    "assert len(pids_kubectl_proxy) > 1, f\"No kubectl proxy found, try in a console: '{cassandra_port_forward_command}'\""
   ]
  },
  {
   "cell_type": "code",
   "execution_count": 12,
   "metadata": {},
   "outputs": [
    {
     "data": {
      "text/plain": [
       "'ROp5iWjMfr'"
      ]
     },
     "execution_count": 12,
     "metadata": {},
     "output_type": "execute_result"
    }
   ],
   "source": [
    "# Getting postgresql password from console out\n",
    "cassandra_password = helm_chart_out[16].split('(')[1][:-1]\n",
    "cassandra_password = !{cassandra_password}\n",
    "cassandra_password = cassandra_password[0]\n",
    "cassandra_password"
   ]
  },
  {
   "cell_type": "markdown",
   "metadata": {},
   "source": [
    "<center><h1><span style='color:blue'>Udacity - DEND - L1E2 - Exercise</span></h1></center>"
   ]
  },
  {
   "cell_type": "markdown",
   "metadata": {},
   "source": [
    "#### Import Apache Cassandra python package"
   ]
  },
  {
   "cell_type": "code",
   "execution_count": 13,
   "metadata": {},
   "outputs": [],
   "source": [
    "import cassandra"
   ]
  },
  {
   "cell_type": "markdown",
   "metadata": {},
   "source": [
    "### Create a connection to the database"
   ]
  },
  {
   "cell_type": "code",
   "execution_count": 14,
   "metadata": {},
   "outputs": [
    {
     "name": "stderr",
     "output_type": "stream",
     "text": [
      "WARNING:cassandra.cluster:Cluster.__init__ called with contact_points specified, but no load_balancing_policy. In the next major version, this will raise an error; please specify a load-balancing policy. (contact_points = ['127.0.0.1'], lbp = None)\n"
     ]
    }
   ],
   "source": [
    "from cassandra.cluster import Cluster\n",
    "from cassandra.auth import PlainTextAuthProvider\n",
    "try: \n",
    "    # Added connection auth for bitnami / helm / cassandra bundle\n",
    "    auth_provider = PlainTextAuthProvider(username='cassandra', password=cassandra_password)\n",
    "    cluster = Cluster(['127.0.0.1'], auth_provider=auth_provider) #If you have a locally installed Apache Cassandra instance\n",
    "    session = cluster.connect()\n",
    "except Exception as e:\n",
    "    print(e)\n",
    " "
   ]
  },
  {
   "cell_type": "markdown",
   "metadata": {},
   "source": [
    "### TO-DO: Create a keyspace to do the work in "
   ]
  },
  {
   "cell_type": "code",
   "execution_count": 15,
   "metadata": {},
   "outputs": [],
   "source": [
    "## TO-DO: Create the keyspace\n",
    "KEYSPACE = 'library'\n",
    "\n",
    "try: \n",
    "    session.execute(\"\"\"\n",
    "    \n",
    "    CREATE KEYSPACE IF NOT EXISTS %s\n",
    "    WITH REPLICATION = {\n",
    "    'class' :'SimpleStrategy', 'replication_factor' : '1'\n",
    "    }\n",
    "    \n",
    "    \"\"\" % KEYSPACE)\n",
    "except Exception as e:\n",
    "    print(f\"Failed KeySpace Creation: {e}\")"
   ]
  },
  {
   "cell_type": "markdown",
   "metadata": {},
   "source": [
    "### TO-DO: Connect to the Keyspace"
   ]
  },
  {
   "cell_type": "code",
   "execution_count": 16,
   "metadata": {},
   "outputs": [],
   "source": [
    "## To-Do: Add in the keyspace you created\n",
    "try: \n",
    "    session.set_keyspace(KEYSPACE)\n",
    "except Exception as e:\n",
    "    print(f\"Error on connection to Keyspace: {e}\")"
   ]
  },
  {
   "cell_type": "markdown",
   "metadata": {},
   "source": [
    "### Create a Song Library that contains a list of songs, including the song name, artist name, year, album it was from, and if it was a single. \n",
    "\n",
    "`song_title\n",
    "artist_name\n",
    "year\n",
    "album_name\n",
    "single`"
   ]
  },
  {
   "cell_type": "markdown",
   "metadata": {},
   "source": [
    "### TO-DO: You need to create a table to be able to run the following query: \n",
    "`select * from songs WHERE year=1970 AND artist_name=\"The Beatles\"`"
   ]
  },
  {
   "cell_type": "code",
   "execution_count": 17,
   "metadata": {},
   "outputs": [],
   "source": [
    "## TO-DO: Complete the query below\n",
    "try: \n",
    "    session.execute(\"\"\"\n",
    "    \n",
    "    CREATE TABLE IF NOT EXISTS songs (\n",
    "        song_title text,\n",
    "        artist_name text,\n",
    "        year int,\n",
    "        album_name text,\n",
    "        single text,\n",
    "        PRIMARY KEY( year, artist_name)\n",
    "    )\n",
    "    \n",
    "    \"\"\")\n",
    "except Exception as e:\n",
    "    print(f\"Error on table creation: {e}\")"
   ]
  },
  {
   "cell_type": "markdown",
   "metadata": {},
   "source": [
    "### TO-DO: Insert the following two rows in your table\n",
    "`First Row:  \"Across The Universe\", \"The Beatles\", \"1970\", \"False\", \"Let It Be\"`\n",
    "\n",
    "`Second Row: \"The Beatles\", \"Think For Yourself\", \"False\", \"1965\", \"Rubber Soul\"`"
   ]
  },
  {
   "cell_type": "code",
   "execution_count": 18,
   "metadata": {},
   "outputs": [],
   "source": [
    "## Add in query and then run the insert statement\n",
    "try: \n",
    "    session.execute(\"\"\"\n",
    "    \n",
    "    INSERT INTO songs \n",
    "        (song_title,artist_name,year,album_name,single) \n",
    "    VALUES \n",
    "        ('Across The Universe', 'The Beatles', 1970, 'Let It Be', 'False')\n",
    "    \n",
    "    \"\"\")\n",
    "except Exception as e:\n",
    "    print(f\"Error on INSERT: {e}\")\n",
    "    \n",
    "try: \n",
    "    session.execute(\"\"\"\n",
    "\n",
    "    INSERT INTO songs \n",
    "        (song_title,artist_name,year,album_name,single) \n",
    "    VALUES \n",
    "        ('Think For Yourself', 'The Beatles', 1965, 'Rubber Soul', 'Think For Yourself')\n",
    "    \n",
    "    \"\"\")\n",
    "except Exception as e:\n",
    "    print(f\"Error on INSERT: {e}\")\n",
    "\n"
   ]
  },
  {
   "cell_type": "markdown",
   "metadata": {},
   "source": [
    "### TO-DO: Validate your data was inserted into the table."
   ]
  },
  {
   "cell_type": "code",
   "execution_count": 19,
   "metadata": {
    "scrolled": true
   },
   "outputs": [
    {
     "name": "stdout",
     "output_type": "stream",
     "text": [
      "1965 Rubber Soul The Beatles\n",
      "1970 Let It Be The Beatles\n"
     ]
    }
   ],
   "source": [
    "## TO-DO: Complete and then run the select statement to validate the data was inserted into the table\n",
    "try: \n",
    "    rows = session.execute(\"\"\"\n",
    "\n",
    "    SELECT year, album_name, artist_name\n",
    "    FROM songs\n",
    "    \n",
    "    \"\"\")\n",
    "except Exception as e:\n",
    "    print(f\"Error on SELECT: {e}\")\n",
    "    \n",
    "for row in rows:\n",
    "    print(row.year, row.album_name, row.artist_name)"
   ]
  },
  {
   "cell_type": "markdown",
   "metadata": {},
   "source": [
    "### TO-DO: Validate the Data Model with the original query.\n",
    "\n",
    "`select * from songs WHERE YEAR=1970 AND artist_name=\"The Beatles\"`"
   ]
  },
  {
   "cell_type": "code",
   "execution_count": 20,
   "metadata": {},
   "outputs": [
    {
     "name": "stdout",
     "output_type": "stream",
     "text": [
      "1970 Let It Be The Beatles\n"
     ]
    }
   ],
   "source": [
    "##TO-DO: Complete the select statement to run the query \n",
    "try: \n",
    "    rows = session.execute(\"\"\"\n",
    "\n",
    "    SELECT year, album_name, artist_name\n",
    "    FROM songs\n",
    "    WHERE year=1970 AND artist_name='The Beatles'\n",
    "    \"\"\")\n",
    "except Exception as e:\n",
    "    print(f\"Error on SELECT: {e}\")\n",
    "    \n",
    "for row in rows:\n",
    "    print(row.year, row.album_name, row.artist_name)"
   ]
  },
  {
   "cell_type": "markdown",
   "metadata": {},
   "source": [
    "### And Finally close the session and cluster connection"
   ]
  },
  {
   "cell_type": "code",
   "execution_count": 21,
   "metadata": {},
   "outputs": [],
   "source": [
    "session.shutdown()\n",
    "cluster.shutdown()"
   ]
  },
  {
   "cell_type": "markdown",
   "metadata": {},
   "source": [
    "<h2><span style='color:blue'>Remove Environment</span></h2>"
   ]
  },
  {
   "cell_type": "code",
   "execution_count": 22,
   "metadata": {},
   "outputs": [],
   "source": [
    "# Clears proxy\n",
    "pids_kubectl_proxy = !ps -ef|fgrep 'kubectl port-forward'|fgrep $CHART_INSTANCE_NAME|cut -d ' ' -f4\n",
    "!kill -9 {pids_kubectl_proxy[0]}"
   ]
  },
  {
   "cell_type": "code",
   "execution_count": 23,
   "metadata": {},
   "outputs": [
    {
     "name": "stdout",
     "output_type": "stream",
     "text": [
      "release \"dend-l1e2\" uninstalled\r\n"
     ]
    }
   ],
   "source": [
    "# Removes chart instances\n",
    "!helm uninstall {CHART_INSTANCE_NAME}"
   ]
  },
  {
   "cell_type": "code",
   "execution_count": null,
   "metadata": {},
   "outputs": [
    {
     "name": "stdout",
     "output_type": "stream",
     "text": [
      "kubectl delete pvc data-dend-l1e2-cassandra-0\n",
      "persistentvolumeclaim \"data-dend-l1e2-cassandra-0\" deleted\n"
     ]
    }
   ],
   "source": [
    "# Removes persistent Volume\n",
    "!kubectl get pvc|fgrep {CHART_INSTANCE_NAME}|cut -d ' '  -f1| xargs -t kubectl delete pvc"
   ]
  },
  {
   "cell_type": "code",
   "execution_count": null,
   "metadata": {},
   "outputs": [],
   "source": []
  }
 ],
 "metadata": {
  "kernelspec": {
   "display_name": "Python 3",
   "language": "python",
   "name": "python3"
  },
  "language_info": {
   "codemirror_mode": {
    "name": "ipython",
    "version": 3
   },
   "file_extension": ".py",
   "mimetype": "text/x-python",
   "name": "python",
   "nbconvert_exporter": "python",
   "pygments_lexer": "ipython3",
   "version": "3.7.3"
  }
 },
 "nbformat": 4,
 "nbformat_minor": 2
}
