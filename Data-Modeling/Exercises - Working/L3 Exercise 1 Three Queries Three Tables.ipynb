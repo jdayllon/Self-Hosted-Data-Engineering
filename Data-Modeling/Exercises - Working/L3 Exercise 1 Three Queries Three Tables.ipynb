{
 "cells": [
  {
   "cell_type": "markdown",
   "metadata": {},
   "source": [
    "# L3 Exercise 1: Three Queries Three Tables\n",
    "<img src=\"https://upload.wikimedia.org/wikipedia/commons/5/5e/Cassandra_logo.svg\" width=\"250\" height=\"250\">"
   ]
  },
  {
   "cell_type": "markdown",
   "metadata": {},
   "source": [
    "### Walk through the basics of creating a table in Apache Cassandra, inserting rows of data, and doing a simple CQL query to validate the information. You will practice Denormalization, and the concept of 1 table per query, which is an encouraged practice with Apache Cassandra. "
   ]
  },
  {
   "cell_type": "markdown",
   "metadata": {},
   "source": [
    "#### We will use a python wrapper/ python driver called cassandra to run the Apache Cassandra queries. This library should be preinstalled but in the future to install this library you can run this command in a notebook to install locally: \n",
    "! pip install cassandra-driver\n",
    "#### More documentation can be found here:  https://datastax.github.io/python-driver/"
   ]
  },
  {
   "cell_type": "markdown",
   "metadata": {},
   "source": [
    "<h3><span style='color:blue'>Using K8S Cassandra</span></h3>\n",
    "​\n",
    "Obviously you need a k8s avaible like: Minikube, Minishift, Docker (with K8s)\n",
    "​\n",
    "Helm is need to, go to [helm.sh](http://helm.sh)"
   ]
  },
  {
   "cell_type": "code",
   "execution_count": 1,
   "metadata": {},
   "outputs": [],
   "source": [
    "#Checks if Helm V3 is available\n",
    "helm_version = !helm version --short\n",
    "assert helm_version[0][:2] == 'v3', \"Expected HELM version not available, visit https://helm.sh\""
   ]
  },
  {
   "cell_type": "code",
   "execution_count": 2,
   "metadata": {},
   "outputs": [
    {
     "name": "stdout",
     "output_type": "stream",
     "text": [
      "\"bitnami\" has been added to your repositories\n"
     ]
    }
   ],
   "source": [
    "!helm repo add bitnami https://charts.bitnami.com/bitnami"
   ]
  },
  {
   "cell_type": "code",
   "execution_count": 3,
   "metadata": {},
   "outputs": [],
   "source": [
    "CHART_INSTANCE_NAME = 'dend-l3e1'\n",
    "CASSANDRA_PASSWORD = 'password'"
   ]
  },
  {
   "cell_type": "code",
   "execution_count": 4,
   "metadata": {},
   "outputs": [
    {
     "name": "stdout",
     "output_type": "stream",
     "text": [
      "Overwriting dend-cassandra-customize.yaml\n"
     ]
    }
   ],
   "source": [
    "%%writefile dend-cassandra-customize.yaml\n",
    "service:\n",
    "    type: NodePort\n",
    "    nodePorts:\n",
    "        cql: 30942\n",
    "        rcp: 30160\n",
    "dbUser:\n",
    "    user: cassandra\n",
    "    password: password"
   ]
  },
  {
   "cell_type": "code",
   "execution_count": 5,
   "metadata": {},
   "outputs": [],
   "source": [
    "helm_chart_out = !helm install {CHART_INSTANCE_NAME} bitnami/cassandra --values dend-cassandra-customize.yaml\n",
    "#for c_out in helm_chart_out: print(c_out)"
   ]
  },
  {
   "cell_type": "code",
   "execution_count": 16,
   "metadata": {},
   "outputs": [
    {
     "name": "stdout",
     "output_type": "stream",
     "text": [
      "NAME                        READY   STATUS    RESTARTS   AGE\n",
      "pod/dend-l3e1-cassandra-0   1/1     Running   0          2m1s\n",
      "\n",
      "NAME                                   TYPE        CLUSTER-IP      EXTERNAL-IP   PORT(S)                                        AGE\n",
      "service/dend-l3e1-cassandra            NodePort    10.102.154.32   <none>        9042:30942/TCP,9160:31518/TCP                  2m1s\n",
      "service/dend-l3e1-cassandra-headless   ClusterIP   None            <none>        7000/TCP,7001/TCP,7199/TCP,9042/TCP,9160/TCP   2m1s\n",
      "service/kubernetes                     ClusterIP   10.96.0.1       <none>        443/TCP                                        46d\n",
      "\n",
      "NAME                                               STATUS   VOLUME                                     CAPACITY   ACCESS MODES   STORAGECLASS   AGE\n",
      "persistentvolumeclaim/data-dend-l3e1-cassandra-0   Bound    pvc-b9ad3c7e-b318-42ab-af6b-88f10f272e25   8Gi        RWO            hostpath       2m1s\n"
     ]
    }
   ],
   "source": [
    "!kubectl get pod,svc,pvc"
   ]
  },
  {
   "cell_type": "markdown",
   "metadata": {},
   "source": [
    "#### Import Apache Cassandra python package"
   ]
  },
  {
   "cell_type": "code",
   "execution_count": 17,
   "metadata": {},
   "outputs": [],
   "source": [
    "import cassandra"
   ]
  },
  {
   "cell_type": "markdown",
   "metadata": {},
   "source": [
    "### Create a connection to the database"
   ]
  },
  {
   "cell_type": "code",
   "execution_count": 18,
   "metadata": {},
   "outputs": [
    {
     "name": "stdout",
     "output_type": "stream",
     "text": [
      "[<Host: 127.0.0.1:30942 datacenter1>]\n"
     ]
    }
   ],
   "source": [
    "# This should make a connection to a Cassandra instance your kubernetes instance\n",
    "\n",
    "from cassandra.cluster import Cluster\n",
    "from cassandra.auth import PlainTextAuthProvider\n",
    "\n",
    "try: \n",
    "    # Added connection auth for bitnami / helm / cassandra bundle\n",
    "    auth_provider = PlainTextAuthProvider(username='cassandra', password='password')\n",
    "    cluster = Cluster(['127.0.0.1'], port=30942, auth_provider=auth_provider) #If you have a locally installed Apache Cassandra instance\n",
    "    session = cluster.connect()\n",
    "    print(session.hosts)\n",
    "except Exception as e:\n",
    "    print(f\"Error: {e}\")"
   ]
  },
  {
   "cell_type": "markdown",
   "metadata": {},
   "source": [
    "### Create a keyspace to work in"
   ]
  },
  {
   "cell_type": "code",
   "execution_count": 19,
   "metadata": {},
   "outputs": [],
   "source": [
    "try:\n",
    "    session.execute(\"\"\"\n",
    "    CREATE KEYSPACE IF NOT EXISTS udacity \n",
    "    WITH REPLICATION = \n",
    "    { 'class' : 'SimpleStrategy', 'replication_factor' : 1 }\"\"\"\n",
    ")\n",
    "\n",
    "except Exception as e:\n",
    "    print(e)"
   ]
  },
  {
   "cell_type": "markdown",
   "metadata": {},
   "source": [
    "#### Connect to our Keyspace. Compare this to how we had to create a new session in PostgreSQL.  "
   ]
  },
  {
   "cell_type": "code",
   "execution_count": 20,
   "metadata": {},
   "outputs": [],
   "source": [
    "try:\n",
    "    session.set_keyspace('udacity')\n",
    "except Exception as e:\n",
    "    print(e)"
   ]
  },
  {
   "cell_type": "markdown",
   "metadata": {},
   "source": [
    "### Let's imagine we would like to start creating a Music Library of albums. \n",
    "\n",
    "### We want to ask 3 questions of our data\n",
    "#### 1. Give every album in the music library that was released in a given year\n",
    "`select * from music_library WHERE YEAR=1970`\n",
    "#### 2. Give every album in the music library that was created by a given artist  \n",
    "`select * from artist_library WHERE artist_name=\"The Beatles\"`\n",
    "#### 3. Give all the information from the music library about a given album\n",
    "`select * from album_library WHERE album_name=\"Close To You\"`\n"
   ]
  },
  {
   "cell_type": "markdown",
   "metadata": {},
   "source": [
    "### Because we want to do three different queries, we will need different tables that partition the data differently.  \n",
    "* The music library table will be partitioned by year that will become the partition key, and artist name will be the clustering column to make each Primary Key unique. \n",
    "* The artist library table will be partitioned by artist name that will be the partition key, and year will be the clustering column to make each Primary Key unique. More on Primary keys in the next lesson and demo. \n",
    "* The album library table will be partitioned by album name that will be the partition key, and artist will be the clustering colum to make each Primary Key unique. \n",
    "\n",
    "`Table Name: music_library\n",
    "column 1: Year\n",
    "column 2: Artist Name\n",
    "column 3: Album Name\n",
    "PRIMARY KEY(year, artist name)`\n",
    "\n",
    "` Table Name: artist_library \n",
    "column 1: Artist Name\n",
    "column 2: Year\n",
    "column 3: Album Name\n",
    "PRIMARY KEY (artist name, year)`\n",
    "\n",
    "`Table Name: album_library \n",
    "column 1: Album Name\n",
    "column 2: Artist Name\n",
    "column 3: Year\n",
    "PRIMARY KEY (album_name, artist_name)`"
   ]
  },
  {
   "cell_type": "markdown",
   "metadata": {},
   "source": [
    "### Create the tables"
   ]
  },
  {
   "cell_type": "code",
   "execution_count": 21,
   "metadata": {},
   "outputs": [],
   "source": [
    "def run_query(session, query, values = None):\n",
    "    try:\n",
    "        if values is None:\n",
    "            rows = session.execute(query)\n",
    "        else:\n",
    "            rows = session.execute(query, values)\n",
    "        return rows\n",
    "    except Exception as e:\n",
    "        print(e)"
   ]
  },
  {
   "cell_type": "code",
   "execution_count": 22,
   "metadata": {},
   "outputs": [
    {
     "data": {
      "text/plain": [
       "<cassandra.cluster.ResultSet at 0x1061844a8>"
      ]
     },
     "execution_count": 22,
     "metadata": {},
     "output_type": "execute_result"
    }
   ],
   "source": [
    "query = \"CREATE TABLE IF NOT EXISTS music_library \"\n",
    "query = query + \"(year int, artist_name text, album_name text, PRIMARY KEY (year, artist_name))\"\n",
    "\n",
    "run_query(session,query)\n",
    "\n",
    "query = \"CREATE TABLE IF NOT EXISTS artist_library \"\n",
    "query = query + \"(artist_name text, year int, album_name text, PRIMARY KEY (artist_name,  year))\"\n",
    "\n",
    "run_query(session,query)    \n",
    "\n",
    "query = \"CREATE TABLE IF NOT EXISTS album_library \"\n",
    "query = query + \"(artist_name text, album_name text, year int, PRIMARY KEY (album_name, artist_name))\"\n",
    "\n",
    "run_query(session,query)"
   ]
  },
  {
   "cell_type": "markdown",
   "metadata": {},
   "source": [
    "### Insert data into the tables"
   ]
  },
  {
   "cell_type": "code",
   "execution_count": 23,
   "metadata": {},
   "outputs": [],
   "source": [
    "query = \"INSERT INTO music_library (year, artist_name, album_name)\"\n",
    "query = query + \" VALUES (%s, %s, %s)\"\n",
    "\n",
    "query1 = \"INSERT INTO artist_library (artist_name, year, album_name)\"\n",
    "query1 = query1 + \" VALUES (%s, %s, %s)\"\n",
    "\n",
    "query2 = \"INSERT INTO album_library (album_name, artist_name, year)\"\n",
    "query2 = query2 + \" VALUES (%s, %s, %s)\"\n",
    "\n",
    "\n",
    "data_music_library = [\n",
    "    (1970, \"The Beatles\", \"Let it Be\"),\n",
    "    (1965, \"The Beatles\", \"Rubber Soul\"),\n",
    "    (1965, \"The Who\", \"My Generation\"),\n",
    "    (1966, \"The Monkees\", \"The Monkees\"),\n",
    "    (1970, \"The Carpenters\", \"Close To You\")\n",
    "]\n",
    "\n",
    "data_artist_library = [\n",
    "    (\"The Beatles\", 1970, \"Let it Be\"),\n",
    "    (\"The Beatles\", 1965, \"Rubber Soul\"),\n",
    "    (\"The Who\", 1965, \"My Generation\"),\n",
    "    (\"The Monkees\", 1966, \"The Monkees\"),\n",
    "    (\"The Carpenters\", 1970, \"Close To You\")\n",
    "]\n",
    "\n",
    "data_album_library = [\n",
    "    (\"Let it Be\", \"The Beatles\", 1970),\n",
    "    (\"Rubber Soul\", \"The Beatles\", 1965),\n",
    "    (\"My Generation\", \"The Who\", 1965),\n",
    "    (\"The Monkees\", \"The Monkees\", 1966),\n",
    "    (\"Close To You\", \"The Carpenters\", 1970)\n",
    "]\n",
    "\n",
    "for citem in data_music_library:\n",
    "    run_query(session,query,citem)\n",
    "    \n",
    "for citem in data_artist_library:\n",
    "    run_query(session,query1,citem)\n",
    "\n",
    "for citem in data_album_library:\n",
    "    run_query(session,query2,citem)"
   ]
  },
  {
   "cell_type": "markdown",
   "metadata": {},
   "source": [
    "### This might have felt unnatural to insert duplicate data into two tables. If I just normalized these tables, I wouldn't have to have extra copies! While this is true, remember there are no `JOINS` in Apache Cassandra. For the benefit of high availibity and scalabity denormalization must be how this is done. \n"
   ]
  },
  {
   "cell_type": "markdown",
   "metadata": {},
   "source": [
    "### Validate our Data Model\n",
    "\n",
    "`select * from music_library WHERE YEAR=1970`"
   ]
  },
  {
   "cell_type": "code",
   "execution_count": 24,
   "metadata": {},
   "outputs": [
    {
     "name": "stdout",
     "output_type": "stream",
     "text": [
      "1970 The Beatles Let it Be\n",
      "1970 The Carpenters Close To You\n"
     ]
    }
   ],
   "source": [
    "query = \"select * from music_library WHERE YEAR=1970\"\n",
    "rows = run_query(session, query)\n",
    "    \n",
    "for row in rows:\n",
    "    print (row.year, row.artist_name, row.album_name,)"
   ]
  },
  {
   "cell_type": "markdown",
   "metadata": {},
   "source": [
    "### Validate our Data Model\n",
    "\n",
    "`select * from artist_library WHERE ARTIST_NAME = \"The Beatles\"`"
   ]
  },
  {
   "cell_type": "code",
   "execution_count": 25,
   "metadata": {},
   "outputs": [
    {
     "name": "stdout",
     "output_type": "stream",
     "text": [
      "The Beatles 1965 Rubber Soul\n",
      "The Beatles 1970 Let it Be\n"
     ]
    }
   ],
   "source": [
    "query = \"select * from artist_library WHERE ARTIST_NAME='The Beatles'\"\n",
    "rows = run_query(session, query)\n",
    "    \n",
    "for row in rows:\n",
    "    print (row.artist_name, row.year, row.album_name)"
   ]
  },
  {
   "cell_type": "markdown",
   "metadata": {},
   "source": [
    "### Validate our Data Model\n",
    "\n",
    "`select * from album_library WHERE album_name=\"Close To You\"`"
   ]
  },
  {
   "cell_type": "code",
   "execution_count": 26,
   "metadata": {},
   "outputs": [
    {
     "name": "stdout",
     "output_type": "stream",
     "text": [
      "The Carpenters 1970 Close To You\n"
     ]
    }
   ],
   "source": [
    "query = \"select * from album_library WHERE ALBUM_NAME='Close To You'\"\n",
    "rows = run_query(session, query)\n",
    "    \n",
    "for row in rows:\n",
    "    print (row.artist_name, row.year, row.album_name)"
   ]
  },
  {
   "cell_type": "markdown",
   "metadata": {},
   "source": [
    "### For the sake of the demo, drop the table. "
   ]
  },
  {
   "cell_type": "code",
   "execution_count": 27,
   "metadata": {},
   "outputs": [
    {
     "data": {
      "text/plain": [
       "<cassandra.cluster.ResultSet at 0x1034d3c18>"
      ]
     },
     "execution_count": 27,
     "metadata": {},
     "output_type": "execute_result"
    }
   ],
   "source": [
    "query = \"drop table music_library\"\n",
    "run_query(session, query)\n",
    "\n",
    "query = \"drop table album_library\"\n",
    "run_query(session, query)\n",
    "\n",
    "query = \"drop table artist_library\"\n",
    "run_query(session, query)"
   ]
  },
  {
   "cell_type": "markdown",
   "metadata": {},
   "source": [
    "### Close the session and cluster connection"
   ]
  },
  {
   "cell_type": "code",
   "execution_count": 28,
   "metadata": {},
   "outputs": [],
   "source": [
    "session.shutdown()\n",
    "cluster.shutdown()"
   ]
  },
  {
   "cell_type": "markdown",
   "metadata": {},
   "source": [
    "<h2><span style='color:blue'>Remove Environment</span></h2>"
   ]
  },
  {
   "cell_type": "code",
   "execution_count": 29,
   "metadata": {},
   "outputs": [
    {
     "name": "stdout",
     "output_type": "stream",
     "text": [
      "release \"dend-l3e1\" uninstalled\n"
     ]
    }
   ],
   "source": [
    "# Removes chart instances\n",
    "!helm uninstall {CHART_INSTANCE_NAME}"
   ]
  },
  {
   "cell_type": "code",
   "execution_count": 30,
   "metadata": {},
   "outputs": [
    {
     "name": "stdout",
     "output_type": "stream",
     "text": [
      "kubectl delete pvc data-dend-l3e1-cassandra-0\n",
      "persistentvolumeclaim \"data-dend-l3e1-cassandra-0\" deleted\n"
     ]
    }
   ],
   "source": [
    "# Removes persistent Volume\n",
    "!kubectl get pvc|fgrep {CHART_INSTANCE_NAME}|cut -d ' '  -f1| xargs -t kubectl delete pvc"
   ]
  },
  {
   "cell_type": "code",
   "execution_count": 31,
   "metadata": {},
   "outputs": [
    {
     "name": "stdout",
     "output_type": "stream",
     "text": [
      "No resources found.\n"
     ]
    }
   ],
   "source": [
    "!kubectl get pvc"
   ]
  },
  {
   "cell_type": "code",
   "execution_count": null,
   "metadata": {},
   "outputs": [],
   "source": []
  }
 ],
 "metadata": {
  "kernelspec": {
   "display_name": "Python 3",
   "language": "python",
   "name": "python3"
  },
  "language_info": {
   "codemirror_mode": {
    "name": "ipython",
    "version": 3
   },
   "file_extension": ".py",
   "mimetype": "text/x-python",
   "name": "python",
   "nbconvert_exporter": "python",
   "pygments_lexer": "ipython3",
   "version": "3.7.3"
  }
 },
 "nbformat": 4,
 "nbformat_minor": 4
}
