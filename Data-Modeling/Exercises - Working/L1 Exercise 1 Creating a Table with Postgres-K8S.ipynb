{
 "cells": [
  {
   "cell_type": "markdown",
   "metadata": {},
   "source": [
    "# L1 Exercise 1: Creating a Table with PostgreSQL"
   ]
  },
  {
   "cell_type": "markdown",
   "metadata": {},
   "source": [
    "### Walk through the basics of PostgreSQL. You will need to complete the following tasks:<li> Create a table \n",
    "\n",
    "in PostgreSQL, <li> Insert rows of data <li> Run a simple SQL query to validate the information. <br>\n",
    "`#####` denotes where the code needs to be completed. \n",
    "    \n",
    "Note: __Do not__ click the blue Preview button in the lower task bar"
   ]
  },
  {
   "cell_type": "markdown",
   "metadata": {},
   "source": [
    "#### Import the library \n",
    "*Note:* An error might popup after this command has executed. If it does, read it carefully before ignoring. "
   ]
  },
  {
   "cell_type": "markdown",
   "metadata": {},
   "source": [
    "<center><h1><span style='color:blue'>Environment preparation</span></h1></center>\n",
    "\n",
    "Udacity environment has been prepared to ease student task, i.e. has a Postgres instance available for training exercises.\n",
    "\n",
    "Let's create one based on Kubernetes.\n",
    "\n",
    "* Add Pyscopg2 module to Python\n",
    "* Load in K8s Postgresql"
   ]
  },
  {
   "cell_type": "code",
   "execution_count": 1,
   "metadata": {},
   "outputs": [
    {
     "name": "stdout",
     "output_type": "stream",
     "text": [
      "Requirement already satisfied: psycopg2-binary in /Users/jdayllon/anaconda3/lib/python3.7/site-packages (2.8.4)\r\n"
     ]
    }
   ],
   "source": [
    "# Load package\n",
    "!pip install psycopg2-binary"
   ]
  },
  {
   "cell_type": "markdown",
   "metadata": {},
   "source": [
    "<h3><span style='color:blue'>Using K8S PostgreSQL</span></h3>\n",
    "\n",
    "Obviously you need a k8s avaible like: Minikube, Minishift, Docker (with K8s)\n",
    "\n",
    "Helm is need to, go to [helm.sh](http://helm.sh)"
   ]
  },
  {
   "cell_type": "code",
   "execution_count": 2,
   "metadata": {},
   "outputs": [],
   "source": [
    "from time import sleep\n",
    "import os"
   ]
  },
  {
   "cell_type": "code",
   "execution_count": 3,
   "metadata": {},
   "outputs": [],
   "source": [
    "helm_version = !helm version --short\n",
    "assert helm_version[0][:2] == 'v3', \"Expected HELM version not available, visit https://helm.sh\"\n",
    "\n",
    "#!curl -fsSL -o /tmp/get_helm.sh https://raw.githubusercontent.com/helm/helm/master/scripts/get-helm-3\n",
    "#!chmod 700 /tmp/get_helm.sh\n",
    "#!ls -al /tmp/\n",
    "#!./get_helm.sh"
   ]
  },
  {
   "cell_type": "code",
   "execution_count": 4,
   "metadata": {},
   "outputs": [
    {
     "name": "stdout",
     "output_type": "stream",
     "text": [
      "\"bitnami\" has been added to your repositories\r\n"
     ]
    }
   ],
   "source": [
    "!helm repo add bitnami https://charts.bitnami.com/bitnami"
   ]
  },
  {
   "cell_type": "code",
   "execution_count": 5,
   "metadata": {},
   "outputs": [
    {
     "data": {
      "text/plain": [
       "'dend-l1e1-postgresql'"
      ]
     },
     "execution_count": 5,
     "metadata": {},
     "output_type": "execute_result"
    }
   ],
   "source": [
    "CHART_INSTANCE_NAME = 'dend-l1e1'\n",
    "os.environ['postgresql_port_instance_name'] = CHART_INSTANCE_NAME + \"-postgresql\"\n",
    "os.getenv('postgresql_port_instance_name')"
   ]
  },
  {
   "cell_type": "code",
   "execution_count": 6,
   "metadata": {},
   "outputs": [],
   "source": [
    "helm_chart_out = !helm install {CHART_INSTANCE_NAME} stable/postgresql"
   ]
  },
  {
   "cell_type": "code",
   "execution_count": 7,
   "metadata": {},
   "outputs": [
    {
     "data": {
      "text/plain": [
       "'kubectl port-forward --namespace default svc/dend-l1e1-postgresql 5432:5432 &'"
      ]
     },
     "execution_count": 7,
     "metadata": {},
     "output_type": "execute_result"
    }
   ],
   "source": [
    "postgresql_port_forward_command = helm_chart_out[-2].strip()\n",
    "os.environ['postgresql_port_forward_command'] = postgresql_port_forward_command\n",
    "os.getenv('postgresql_port_forward_command')"
   ]
  },
  {
   "cell_type": "code",
   "execution_count": 9,
   "metadata": {},
   "outputs": [
    {
     "name": "stdout",
     "output_type": "stream",
     "text": [
      "NAME                     READY   STATUS    RESTARTS   AGE\n",
      "dend-l1e1-postgresql-0   0/1     Running   0          35s\n",
      "dend-l1e2-cassandra-0    1/1     Running   0          49m\n",
      "NAME                     READY   STATUS    RESTARTS   AGE\n",
      "dend-l1e1-postgresql-0   1/1     Running   0          40s\n",
      "dend-l1e2-cassandra-0    1/1     Running   0          49m\n"
     ]
    }
   ],
   "source": [
    "# Waits until postgresl is running on \n",
    "max_checks_postgresql_run = 20\n",
    "\n",
    "!kubectl get pods\n",
    "\n",
    "while max_checks_postgresql_run > 0:\n",
    "\n",
    "    postgres_is_running = !kubectl get pods|fgrep {CHART_INSTANCE_NAME}|fgrep \"1/1\"|fgrep \"Running\"\n",
    "    \n",
    "    if len(postgres_is_running) > 0 and not postgres_is_running[0] == 'No resources found.':\n",
    "        break\n",
    "    else:\n",
    "        sleep(5)\n",
    "\n",
    "        max_checks_postgresql_run -= 1\n",
    "\n",
    "!kubectl get pods\n",
    "assert max_checks_postgresql_run > 0, \"Probably Postgresql is not running\""
   ]
  },
  {
   "cell_type": "markdown",
   "metadata": {},
   "source": [
    "<h3><span style='color:blue'>Open Proxy to PostgreSQL on K8s</span></h3>\n",
    "Run next command in a separate terminal (if not run on Jupyter ;-))"
   ]
  },
  {
   "cell_type": "code",
   "execution_count": 10,
   "metadata": {},
   "outputs": [],
   "source": [
    "%%script env postgres_port_forward_command=\"$postgres_port_forward_command\" --bg bash --out console_out\n",
    "nohup kubectl port-forward --namespace default svc/dend-l1e1-postgresql 5432:5432 &\n"
   ]
  },
  {
   "cell_type": "code",
   "execution_count": 11,
   "metadata": {},
   "outputs": [],
   "source": [
    "# Getting postgresql password from console out\n",
    "postgresql_password = helm_chart_out[15].split('(')[1][:-1]\n",
    "postgresql_password = !{postgresql_password}\n",
    "postgresql_password = postgresql_password[0]"
   ]
  },
  {
   "cell_type": "code",
   "execution_count": 12,
   "metadata": {},
   "outputs": [],
   "source": [
    "# Getting console command to connect with current instance of postgres\n",
    "k8s_psql_command = helm_chart_out[19].strip().replace(\"$POSTGRES_PASSWORD\", postgresql_password) + \" -c \""
   ]
  },
  {
   "cell_type": "markdown",
   "metadata": {},
   "source": [
    "<h3><span style='color:blue'>Check Postgresql availibity</span></h3>\n",
    "We had created an Postgresql on a K8s infraestructure, next we will test if it is avaiable"
   ]
  },
  {
   "cell_type": "code",
   "execution_count": 13,
   "metadata": {},
   "outputs": [
    {
     "name": "stdout",
     "output_type": "stream",
     "text": [
      "                                                 version                        \n",
      "                         \n",
      "--------------------------------------------------------------------------------\n",
      "-------------------------\n",
      " PostgreSQL 11.6 on x86_64-pc-linux-gnu, compiled by gcc (Debian 6.3.0-18+deb9u1\n",
      ") 6.3.0 20170516, 64-bit\n",
      "(1 row)\n",
      "\n",
      "pod \"dend-l1e1-postgresql-client\" deleted\n"
     ]
    }
   ],
   "source": [
    "# Checks postgresql connection\n",
    "select_1_postgresql_out = !{k8s_psql_command} 'SELECT 1;'\n",
    "assert len(select_1_postgresql_out) > 0, 'Postgresql -select 1- failed, check it'\n",
    "!{k8s_psql_command} 'SELECT version();'"
   ]
  },
  {
   "cell_type": "markdown",
   "metadata": {},
   "source": [
    "<h3><span style='color:blue'>Initialize Postgresql Student DB for excercise</span></h3>"
   ]
  },
  {
   "cell_type": "code",
   "execution_count": 14,
   "metadata": {},
   "outputs": [
    {
     "name": "stdout",
     "output_type": "stream",
     "text": [
      "CREATE ROLE\n",
      "pod \"dend-l1e1-postgresql-client\" deleted\n"
     ]
    }
   ],
   "source": [
    "!{k8s_psql_command} \"CREATE ROLE student WITH LOGIN ENCRYPTED PASSWORD 'student'\""
   ]
  },
  {
   "cell_type": "code",
   "execution_count": 15,
   "metadata": {},
   "outputs": [
    {
     "name": "stdout",
     "output_type": "stream",
     "text": [
      "ALTER ROLE\n",
      "pod \"dend-l1e1-postgresql-client\" deleted\n"
     ]
    }
   ],
   "source": [
    "!{k8s_psql_command} 'alter user student createdb;'"
   ]
  },
  {
   "cell_type": "code",
   "execution_count": 16,
   "metadata": {},
   "outputs": [
    {
     "name": "stdout",
     "output_type": "stream",
     "text": [
      "If you don't see a command prompt, try pressing enter.\n",
      "CREATE DATABASE\n",
      "pod \"dend-l1e1-postgresql-client\" deleted\n"
     ]
    }
   ],
   "source": [
    "!{k8s_psql_command} 'create database studentdb;'"
   ]
  },
  {
   "cell_type": "code",
   "execution_count": 17,
   "metadata": {},
   "outputs": [
    {
     "name": "stdout",
     "output_type": "stream",
     "text": [
      "GRANT\n",
      "pod \"dend-l1e1-postgresql-client\" deleted\n"
     ]
    }
   ],
   "source": [
    "!{k8s_psql_command} 'grant all privileges on database studentdb to student;'"
   ]
  },
  {
   "cell_type": "code",
   "execution_count": 18,
   "metadata": {},
   "outputs": [
    {
     "name": "stdout",
     "output_type": "stream",
     "text": [
      " usename  | usecreatedb \n",
      "----------+-------------\n",
      " postgres | t\n",
      " student  | t\n",
      "(2 rows)\n",
      "\n",
      "pod \"dend-l1e1-postgresql-client\" deleted\n"
     ]
    }
   ],
   "source": [
    "!{k8s_psql_command} 'SELECT usename, usecreatedb FROM pg_user;'"
   ]
  },
  {
   "cell_type": "markdown",
   "metadata": {},
   "source": [
    "<center><h1><span style='color:blue'>Udacity - DEND - L1E1 - Exercise</span></h1></center>"
   ]
  },
  {
   "cell_type": "markdown",
   "metadata": {},
   "source": [
    "### _Create a connection to the database_"
   ]
  },
  {
   "cell_type": "code",
   "execution_count": 20,
   "metadata": {},
   "outputs": [],
   "source": [
    "import psycopg2"
   ]
  },
  {
   "cell_type": "code",
   "execution_count": 21,
   "metadata": {},
   "outputs": [],
   "source": [
    "try: \n",
    "    conn = psycopg2.connect(\"host=127.0.0.1 port=5432 dbname=studentdb user=student password=student\")\n",
    "except psycopg2.Error as e: \n",
    "    print(\"Error: Could not make connection to the Postgres database\")\n",
    "    print(e)"
   ]
  },
  {
   "cell_type": "markdown",
   "metadata": {},
   "source": [
    "### _Next use that connect to get a cursor that can be used to execute queries._"
   ]
  },
  {
   "cell_type": "code",
   "execution_count": 22,
   "metadata": {},
   "outputs": [],
   "source": [
    "try: \n",
    "    cur = conn.cursor()\n",
    "except psycopg2.Error as e: \n",
    "    print(\"Error: Could not get curser to the Database\")\n",
    "    print(e)"
   ]
  },
  {
   "cell_type": "markdown",
   "metadata": {},
   "source": [
    "### _Set automatic commit to be true so that each action is committed without having to call conn.commit() after each command._ "
   ]
  },
  {
   "cell_type": "code",
   "execution_count": 23,
   "metadata": {},
   "outputs": [],
   "source": [
    "conn.set_session(autocommit=True)"
   ]
  },
  {
   "cell_type": "markdown",
   "metadata": {},
   "source": [
    "## _Let's Test our Connection and our Error Handling_\n",
    "\n",
    "_We are trying to do a select * on a table we have not created yet. We should expect to see a nicely handled error._"
   ]
  },
  {
   "cell_type": "code",
   "execution_count": 24,
   "metadata": {},
   "outputs": [
    {
     "name": "stdout",
     "output_type": "stream",
     "text": [
      "relation \"songs\" does not exist\n",
      "LINE 1: select * from songs\n",
      "                      ^\n",
      "\n"
     ]
    }
   ],
   "source": [
    "try: \n",
    "    cur.execute(\"select * from songs\")\n",
    "except psycopg2.Error as e:\n",
    "    print(e)"
   ]
  },
  {
   "cell_type": "markdown",
   "metadata": {},
   "source": [
    "### Let's create a database to do the work in. "
   ]
  },
  {
   "cell_type": "code",
   "execution_count": 25,
   "metadata": {},
   "outputs": [],
   "source": [
    "## TO-DO: Add the database name within the CREATE DATABASE statement. You can choose your own db name.\n",
    "try: \n",
    "    cur.execute(\"create database music\")\n",
    "except psycopg2.Error as e:\n",
    "    print(e)"
   ]
  },
  {
   "cell_type": "markdown",
   "metadata": {},
   "source": [
    "#### TO-DO: Add the database name in the connect statement. Let's close our connection to the default database, reconnect to the Udacity database, and get a new cursor."
   ]
  },
  {
   "cell_type": "code",
   "execution_count": 26,
   "metadata": {},
   "outputs": [],
   "source": [
    "## TO-DO: Add the database name within the connect statement\n",
    "flag_error_reconnect = False\n",
    "\n",
    "try: \n",
    "    cur.close()\n",
    "    conn.close()    \n",
    "except psycopg2.Error as e:\n",
    "    flag_error_reconnect = True\n",
    "    print(\"Error: Could not get curser to the Database\")\n",
    "    print(e)\n",
    "\n",
    "if not flag_error_reconnect:\n",
    "    try:\n",
    "        conn = psycopg2.connect(\"host=127.0.0.1 port=5432 dbname=music user=student password=student\")\n",
    "    except psycopg2.Error as e:\n",
    "        flag_error_reconnect = True\n",
    "        print(\"Error: Could not connect to Database\")\n",
    "        print(e)\n",
    "        \n",
    "if not flag_error_reconnect:\n",
    "    try:\n",
    "        cur = conn.cursor()\n",
    "    except psycopg2.Error as e:\n",
    "        flag_error_reconnect = True\n",
    "        print(\"Error: Could not get curser to the Database\")\n",
    "        print(e)\n",
    "        \n",
    "if not flag_error_reconnect:\n",
    "    conn.set_session(autocommit=True)"
   ]
  },
  {
   "cell_type": "markdown",
   "metadata": {},
   "source": [
    "### _Let's image we would like to start creating a song Library that contains a list of songs, including the song name, artist name, year, album it was from, and if it was a single._\n",
    "\n",
    "```\n",
    "song_title\n",
    "artist_name\n",
    "year\n",
    "album_name\n",
    "single\n",
    "```\n",
    "\n",
    "Translate this information into CREATE TABLE statement with the correct arguments \n",
    "\n",
    "Reference info: https://www.postgresql.org/docs/11/datatype.html"
   ]
  },
  {
   "cell_type": "code",
   "execution_count": 27,
   "metadata": {},
   "outputs": [],
   "source": [
    "## TO-DO: Finish writing the CREATE TABLE statement with the correct arguments\n",
    "try: \n",
    "    cur.execute(\"\"\"\n",
    "    CREATE TABLE IF NOT EXISTS songs \n",
    "    (\n",
    "        song_title VARCHAR,\n",
    "        artist_name VARCHAR,\n",
    "        year VARCHAR,\n",
    "        album_name VARCHAR,\n",
    "        single VARCHAR\n",
    "    )\n",
    "    \"\"\")\n",
    "except psycopg2.Error as e:\n",
    "    print(\"Error: Could not create table\")\n",
    "    print(e)"
   ]
  },
  {
   "cell_type": "markdown",
   "metadata": {},
   "source": [
    "### TO-DO: Insert the following two rows in the table\n",
    "`First Row:  \"Across The Universe\", \"The Beatles\", \"1970\", \"False\", \"Let It Be\"`\n",
    "\n",
    "`Second Row: \"The Beatles\", \"Think For Yourself\", \"False\", \"1965\", \"Rubber Soul\"`"
   ]
  },
  {
   "cell_type": "code",
   "execution_count": 28,
   "metadata": {},
   "outputs": [],
   "source": [
    "## TO-DO: Finish the INSERT INTO statement with the correct arguments\n",
    "try: \n",
    "    cur.execute(\n",
    "    \"\"\"\n",
    "    INSERT INTO songs (song_title, artist_name, year, album_name, single) \\\n",
    "    VALUES (%s, %s, %s, %s, %s)\n",
    "    \"\"\" , (\"Across The Universe\", \"The Beatles\", \"1970\", \"False\", \"Let It Be\")\n",
    "    )\n",
    "except psycopg2.Error as e:\n",
    "    print(\"Error: Could not create a row\")\n",
    "    print(e)\n",
    "                \n",
    "try: \n",
    "    cur.execute(\n",
    "    \"\"\"\n",
    "    INSERT INTO songs (song_title, artist_name, year, album_name, single) \\\n",
    "    VALUES (%s, %s, %s, %s, %s)\n",
    "    \"\"\" , (\"The Beatles\", \"Think For Yourself\", \"False\", \"1965\", \"Rubber Soul\")\n",
    "    )\n",
    "except psycopg2.Error as e:\n",
    "    print(\"Error: Could not create a row\")\n",
    "    print(e)"
   ]
  },
  {
   "cell_type": "markdown",
   "metadata": {},
   "source": [
    "### TO-DO: Validate your data was inserted into the table. \n"
   ]
  },
  {
   "cell_type": "code",
   "execution_count": 29,
   "metadata": {},
   "outputs": [
    {
     "name": "stdout",
     "output_type": "stream",
     "text": [
      "('Across The Universe', 'The Beatles', '1970', 'False', 'Let It Be')\n",
      "('The Beatles', 'Think For Yourself', 'False', '1965', 'Rubber Soul')\n"
     ]
    }
   ],
   "source": [
    "## TO-DO: Finish the SELECT * Statement \n",
    "try: \n",
    "    cur.execute(\n",
    "    \"\"\"\n",
    "        SELECT * FROM songs\n",
    "    \"\"\")\n",
    "except psycopg2.Error as e:\n",
    "    print(e)\n",
    "\n",
    "for crow in cur.fetchall():\n",
    "    print(crow)"
   ]
  },
  {
   "cell_type": "markdown",
   "metadata": {},
   "source": [
    "### And finally close your cursor and connection. "
   ]
  },
  {
   "cell_type": "code",
   "execution_count": 30,
   "metadata": {},
   "outputs": [],
   "source": [
    "cur.close()\n",
    "conn.close()"
   ]
  },
  {
   "cell_type": "markdown",
   "metadata": {},
   "source": [
    "<h2><span style='color:blue'>Remove Environment</span></h2>"
   ]
  },
  {
   "cell_type": "code",
   "execution_count": 44,
   "metadata": {},
   "outputs": [],
   "source": [
    "# Clears proxy\n",
    "pids_kubectl_proxy = !ps -ef|fgrep 'kubectl port-forward'|fgrep $CHART_INSTANCE_NAME|cut -d ' ' -f4\n",
    "!kill -9 {pids_kubectl_proxy[0]}"
   ]
  },
  {
   "cell_type": "code",
   "execution_count": 32,
   "metadata": {},
   "outputs": [
    {
     "name": "stdout",
     "output_type": "stream",
     "text": [
      "release \"dend-l1e1\" uninstalled\r\n"
     ]
    }
   ],
   "source": [
    "# Removes chart instances\n",
    "!helm uninstall {CHART_INSTANCE_NAME}"
   ]
  },
  {
   "cell_type": "code",
   "execution_count": 33,
   "metadata": {},
   "outputs": [
    {
     "name": "stdout",
     "output_type": "stream",
     "text": [
      "kubectl delete pvc data-dend-l1e1-postgresql-0\n",
      "persistentvolumeclaim \"data-dend-l1e1-postgresql-0\" deleted\n"
     ]
    }
   ],
   "source": [
    "# Removes persistent Volume\n",
    "!kubectl get pvc|fgrep {CHART_INSTANCE_NAME}|cut -d ' '  -f1| xargs -t kubectl delete pvc"
   ]
  },
  {
   "cell_type": "code",
   "execution_count": null,
   "metadata": {},
   "outputs": [],
   "source": []
  }
 ],
 "metadata": {
  "kernelspec": {
   "display_name": "Python 3",
   "language": "python",
   "name": "python3"
  },
  "language_info": {
   "codemirror_mode": {
    "name": "ipython",
    "version": 3
   },
   "file_extension": ".py",
   "mimetype": "text/x-python",
   "name": "python",
   "nbconvert_exporter": "python",
   "pygments_lexer": "ipython3",
   "version": "3.7.3"
  }
 },
 "nbformat": 4,
 "nbformat_minor": 2
}
