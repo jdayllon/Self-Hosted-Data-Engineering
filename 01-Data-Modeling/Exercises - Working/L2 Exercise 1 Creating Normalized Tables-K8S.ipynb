{
 "cells": [
  {
   "cell_type": "markdown",
   "metadata": {},
   "source": [
    "# L2 Exercise 1: Creating Normalized Tables\n",
    "\n",
    "<img src=\"https://wiki.postgresql.org/images/a/a4/PostgreSQL_logo.3colors.svg\" width=\"250\" height=\"250\">"
   ]
  },
  {
   "cell_type": "markdown",
   "metadata": {},
   "source": [
    "<center><h1><span style='color:blue'>Environment preparation</span></h1></center>\n",
    "\n",
    "Udacity environment has been prepared to ease student task, i.e. has a Postgres instance available for training exercises.\n",
    "\n",
    "Let's create one based on Kubernetes.\n",
    "\n",
    "* Add Pyscopg2 module to Python\n",
    "* Load in K8s Postgresql"
   ]
  },
  {
   "cell_type": "code",
   "execution_count": 1,
   "metadata": {},
   "outputs": [],
   "source": [
    "# Load package\n",
    "# !pip install psycopg2-binary"
   ]
  },
  {
   "cell_type": "markdown",
   "metadata": {},
   "source": [
    "<h3><span style='color:blue'>Using K8S PostgreSQL</span></h3>\n",
    "\n",
    "Obviously you need a k8s avaible like: Minikube, Minishift, Docker (with K8s)\n",
    "\n",
    "Helm is need to, go to [helm.sh](http://helm.sh)"
   ]
  },
  {
   "cell_type": "code",
   "execution_count": 1,
   "metadata": {},
   "outputs": [],
   "source": [
    "from time import sleep\n",
    "import os"
   ]
  },
  {
   "cell_type": "code",
   "execution_count": 2,
   "metadata": {},
   "outputs": [],
   "source": [
    "helm_version = !helm version --short\n",
    "assert helm_version[0][:2] == 'v3', \"Expected HELM version not available, visit https://helm.sh\"\n",
    "\n",
    "#!curl -fsSL -o /tmp/get_helm.sh https://raw.githubusercontent.com/helm/helm/master/scripts/get-helm-3\n",
    "#!chmod 700 /tmp/get_helm.sh\n",
    "#!ls -al /tmp/\n",
    "#!./get_helm.sh"
   ]
  },
  {
   "cell_type": "code",
   "execution_count": 3,
   "metadata": {},
   "outputs": [
    {
     "name": "stdout",
     "output_type": "stream",
     "text": [
      "\"bitnami\" has been added to your repositories\n"
     ]
    }
   ],
   "source": [
    "!helm repo add bitnami https://charts.bitnami.com/bitnami"
   ]
  },
  {
   "cell_type": "code",
   "execution_count": 4,
   "metadata": {},
   "outputs": [
    {
     "data": {
      "text/plain": [
       "'dend-l2e2-postgresql'"
      ]
     },
     "execution_count": 4,
     "metadata": {},
     "output_type": "execute_result"
    }
   ],
   "source": [
    "CHART_INSTANCE_NAME = 'dend-l2e1'\n",
    "os.environ['postgresql_port_instance_name'] = CHART_INSTANCE_NAME + \"-postgresql\"\n",
    "os.getenv('postgresql_port_instance_name')"
   ]
  },
  {
   "cell_type": "code",
   "execution_count": 5,
   "metadata": {},
   "outputs": [],
   "source": [
    "helm_chart_out = !helm install {CHART_INSTANCE_NAME} stable/postgresql"
   ]
  },
  {
   "cell_type": "code",
   "execution_count": 6,
   "metadata": {},
   "outputs": [
    {
     "data": {
      "text/plain": [
       "'kubectl port-forward --namespace default svc/dend-l2e2-postgresql 5432:5432 &'"
      ]
     },
     "execution_count": 6,
     "metadata": {},
     "output_type": "execute_result"
    }
   ],
   "source": [
    "postgresql_port_forward_command = helm_chart_out[-2].strip()\n",
    "os.environ['postgresql_port_forward_command'] = postgresql_port_forward_command\n",
    "os.getenv('postgresql_port_forward_command')"
   ]
  },
  {
   "cell_type": "code",
   "execution_count": 7,
   "metadata": {},
   "outputs": [
    {
     "name": "stdout",
     "output_type": "stream",
     "text": [
      "NAME                     READY   STATUS     RESTARTS   AGE\n",
      "dend-l2e2-postgresql-0   0/1     Init:0/1   0          2s\n",
      "NAME                     READY   STATUS    RESTARTS   AGE\n",
      "dend-l2e2-postgresql-0   1/1     Running   0          33s\n"
     ]
    }
   ],
   "source": [
    "# Waits until postgresl is running on \n",
    "max_checks_postgresql_run = 20\n",
    "\n",
    "!kubectl get pods\n",
    "\n",
    "while max_checks_postgresql_run > 0:\n",
    "\n",
    "    postgres_is_running = !kubectl get pods|fgrep {CHART_INSTANCE_NAME}|fgrep \"1/1\"|fgrep \"Running\"\n",
    "    \n",
    "    if len(postgres_is_running) > 0 and not postgres_is_running[0] == 'No resources found.':\n",
    "        break\n",
    "    else:\n",
    "        sleep(5)\n",
    "\n",
    "        max_checks_postgresql_run -= 1\n",
    "\n",
    "!kubectl get pods\n",
    "assert max_checks_postgresql_run > 0, \"Probably Postgresql is not running\""
   ]
  },
  {
   "cell_type": "markdown",
   "metadata": {},
   "source": [
    "<h3><span style='color:blue'>Open Proxy to PostgreSQL on K8s</span></h3>\n",
    "Run next command in a separate terminal (if not run on Jupyter ;-))"
   ]
  },
  {
   "cell_type": "code",
   "execution_count": 13,
   "metadata": {},
   "outputs": [],
   "source": [
    "%%script env --bg bash --out console_out\n",
    "nohup kubectl port-forward --namespace default svc/dend-l2e1-postgresql 5432:5432 &\n",
    "\n",
    "#%%script env postgres_port_forward_command=\"$postgres_port_forward_command\" --bg bash --out console_out\n",
    "#nohup kubectl port-forward --namespace default svc/dend-l1e1-postgresql 5432:5432 &"
   ]
  },
  {
   "cell_type": "code",
   "execution_count": 14,
   "metadata": {},
   "outputs": [],
   "source": [
    "# Getting postgresql password from console out\n",
    "postgresql_password = helm_chart_out[15].split('(')[1][:-1]\n",
    "postgresql_password = !{postgresql_password}\n",
    "postgresql_password = postgresql_password[0]"
   ]
  },
  {
   "cell_type": "code",
   "execution_count": 15,
   "metadata": {},
   "outputs": [],
   "source": [
    "# Getting console command to connect with current instance of postgres\n",
    "k8s_psql_command = helm_chart_out[19].strip().replace(\"$POSTGRES_PASSWORD\", postgresql_password) + \" -c \""
   ]
  },
  {
   "cell_type": "code",
   "execution_count": 16,
   "metadata": {},
   "outputs": [
    {
     "name": "stdout",
     "output_type": "stream",
     "text": [
      "  501 57444 57129   0  7:02PM ttys000    0:00.01 /bin/sh -c ps -ef|fgrep 'kubectl port-forward'\n",
      "  501 57446 57444   0  7:02PM ttys000    0:00.00 fgrep kubectl port-forward\n"
     ]
    }
   ],
   "source": [
    "!ps -ef|fgrep 'kubectl port-forward'"
   ]
  },
  {
   "cell_type": "code",
   "execution_count": 11,
   "metadata": {},
   "outputs": [
    {
     "ename": "AssertionError",
     "evalue": "No kubectl proxy found, try in a console: 'kubectl port-forward --namespace default svc/dend-l2e2-postgresql 5432:5432 &'",
     "output_type": "error",
     "traceback": [
      "\u001b[0;31m---------------------------------------------------------------------------\u001b[0m",
      "\u001b[0;31mAssertionError\u001b[0m                            Traceback (most recent call last)",
      "\u001b[0;32m<ipython-input-11-59c1c73ccf69>\u001b[0m in \u001b[0;36m<module>\u001b[0;34m\u001b[0m\n\u001b[1;32m      1\u001b[0m \u001b[0;31m# Checks if proxy is enabled\u001b[0m\u001b[0;34m\u001b[0m\u001b[0;34m\u001b[0m\u001b[0;34m\u001b[0m\u001b[0m\n\u001b[1;32m      2\u001b[0m \u001b[0mpids_kubectl_proxy\u001b[0m \u001b[0;34m=\u001b[0m \u001b[0mget_ipython\u001b[0m\u001b[0;34m(\u001b[0m\u001b[0;34m)\u001b[0m\u001b[0;34m.\u001b[0m\u001b[0mgetoutput\u001b[0m\u001b[0;34m(\u001b[0m\u001b[0;34m\"ps -ef|fgrep 'kubectl port-forward'|fgrep $CHART_INSTANCE_NAME|cut -d ' ' -f4\"\u001b[0m\u001b[0;34m)\u001b[0m\u001b[0;34m\u001b[0m\u001b[0;34m\u001b[0m\u001b[0m\n\u001b[0;32m----> 3\u001b[0;31m \u001b[0;32massert\u001b[0m \u001b[0mlen\u001b[0m\u001b[0;34m(\u001b[0m\u001b[0mpids_kubectl_proxy\u001b[0m\u001b[0;34m)\u001b[0m \u001b[0;34m>\u001b[0m \u001b[0;36m1\u001b[0m\u001b[0;34m,\u001b[0m \u001b[0;34mf\"No kubectl proxy found, try in a console: '{postgresql_port_forward_command}'\"\u001b[0m\u001b[0;34m\u001b[0m\u001b[0;34m\u001b[0m\u001b[0m\n\u001b[0m",
      "\u001b[0;31mAssertionError\u001b[0m: No kubectl proxy found, try in a console: 'kubectl port-forward --namespace default svc/dend-l2e2-postgresql 5432:5432 &'"
     ]
    }
   ],
   "source": [
    "# Checks if proxy is enabled\n",
    "pids_kubectl_proxy = !ps -ef|fgrep 'kubectl port-forward'|fgrep $CHART_INSTANCE_NAME|cut -d ' ' -f4\n",
    "assert len(pids_kubectl_proxy) > 1, f\"No kubectl proxy found, try in a console: '{postgresql_port_forward_command}'\""
   ]
  },
  {
   "cell_type": "markdown",
   "metadata": {},
   "source": [
    "<h3><span style='color:blue'>Check Postgresql availibity</span></h3>\n",
    "We had created an Postgresql on a K8s infraestructure, next we will test if it is avaiable"
   ]
  },
  {
   "cell_type": "code",
   "execution_count": 13,
   "metadata": {},
   "outputs": [
    {
     "name": "stdout",
     "output_type": "stream",
     "text": [
      "                                                 version                        \n",
      "                         \n",
      "--------------------------------------------------------------------------------\n",
      "-------------------------\n",
      " PostgreSQL 11.6 on x86_64-pc-linux-gnu, compiled by gcc (Debian 6.3.0-18+deb9u1\n",
      ") 6.3.0 20170516, 64-bit\n",
      "(1 row)\n",
      "\n",
      "pod \"dend-l2e1-postgresql-client\" deleted\n"
     ]
    }
   ],
   "source": [
    "# Checks postgresql connection\n",
    "select_1_postgresql_out = !{k8s_psql_command} 'SELECT 1;'\n",
    "assert len(select_1_postgresql_out) > 0, 'Postgresql -select 1- failed, check it'\n",
    "!{k8s_psql_command} 'SELECT version();'"
   ]
  },
  {
   "cell_type": "markdown",
   "metadata": {},
   "source": [
    "<h3><span style='color:blue'>Initialize Postgresql Student DB for excercise</span></h3>"
   ]
  },
  {
   "cell_type": "code",
   "execution_count": 14,
   "metadata": {},
   "outputs": [
    {
     "name": "stdout",
     "output_type": "stream",
     "text": [
      "CREATE ROLE\n",
      "pod \"dend-l2e1-postgresql-client\" deleted\n"
     ]
    }
   ],
   "source": [
    "!{k8s_psql_command} \"CREATE ROLE student WITH LOGIN ENCRYPTED PASSWORD 'student'\""
   ]
  },
  {
   "cell_type": "code",
   "execution_count": 15,
   "metadata": {},
   "outputs": [
    {
     "name": "stdout",
     "output_type": "stream",
     "text": [
      "ALTER ROLE\n",
      "pod \"dend-l2e1-postgresql-client\" deleted\n"
     ]
    }
   ],
   "source": [
    "!{k8s_psql_command} 'alter user student createdb;'"
   ]
  },
  {
   "cell_type": "code",
   "execution_count": 16,
   "metadata": {},
   "outputs": [
    {
     "name": "stdout",
     "output_type": "stream",
     "text": [
      "If you don't see a command prompt, try pressing enter.\n",
      "CREATE DATABASE\n",
      "pod \"dend-l2e1-postgresql-client\" deleted\n"
     ]
    }
   ],
   "source": [
    "!{k8s_psql_command} 'create database studentdb;'"
   ]
  },
  {
   "cell_type": "code",
   "execution_count": 17,
   "metadata": {},
   "outputs": [
    {
     "name": "stdout",
     "output_type": "stream",
     "text": [
      "GRANT\n",
      "pod \"dend-l2e1-postgresql-client\" deleted\n"
     ]
    }
   ],
   "source": [
    "!{k8s_psql_command} 'grant all privileges on database studentdb to student;'"
   ]
  },
  {
   "cell_type": "code",
   "execution_count": 18,
   "metadata": {},
   "outputs": [
    {
     "name": "stdout",
     "output_type": "stream",
     "text": [
      " usename  | usecreatedb \n",
      "----------+-------------\n",
      " postgres | t\n",
      " student  | t\n",
      "(2 rows)\n",
      "\n",
      "pod \"dend-l2e1-postgresql-client\" deleted\n"
     ]
    }
   ],
   "source": [
    "!{k8s_psql_command} 'SELECT usename, usecreatedb FROM pg_user;'"
   ]
  },
  {
   "cell_type": "markdown",
   "metadata": {},
   "source": [
    "## In this exercise we are going to walk through the basics of modeling data in normalized form. We will create tables in PostgreSQL, insert rows of data, and do simple JOIN SQL queries to show how these mutliple tables can work together. \n"
   ]
  },
  {
   "cell_type": "markdown",
   "metadata": {},
   "source": [
    "#### Import the library \n",
    "Note: An error might popup after this command has exectuted. If it does, read it carefully before ignoring. "
   ]
  },
  {
   "cell_type": "code",
   "execution_count": 19,
   "metadata": {},
   "outputs": [],
   "source": [
    "import psycopg2"
   ]
  },
  {
   "cell_type": "markdown",
   "metadata": {},
   "source": [
    "####  Create a connection to the database, get a cursor, and set autocommit to true"
   ]
  },
  {
   "cell_type": "code",
   "execution_count": 20,
   "metadata": {},
   "outputs": [],
   "source": [
    "try: \n",
    "    conn = psycopg2.connect(\"host=127.0.0.1 dbname=studentdb user=student password=student\")\n",
    "except psycopg2.Error as e: \n",
    "    print(\"Error: Could not make connection to the Postgres database\")\n",
    "    print(e)\n",
    "try: \n",
    "    cur = conn.cursor()\n",
    "except psycopg2.Error as e: \n",
    "    print(\"Error: Could not get cursor to the Database\")\n",
    "    print(e)\n",
    "conn.set_session(autocommit=True)"
   ]
  },
  {
   "cell_type": "markdown",
   "metadata": {},
   "source": [
    "#### Let's imagine we have a table called Music Store. \n",
    "\n",
    "`Table Name: music_store\n",
    "column 0: Transaction Id\n",
    "column 1: Customer Name\n",
    "column 2: Cashier Name\n",
    "column 3: Year \n",
    "column 4: Albums Purchased`\n",
    "\n",
    "## Now to translate this information into a Create Table Statement and insert the data\n",
    "\n",
    "Data rows:\n",
    "\n",
    "* (1, 'Amanda', 'Sam', 2000, ['Rubber Soul', 'Let it Be'])\n",
    "* (2, 'Toby', 'Sam', 2000, ['My Generation'])\n",
    "* (3, 'Max', 'Bob', 2018, ['Meet the Beatles', 'Help!'])\n"
   ]
  },
  {
   "cell_type": "code",
   "execution_count": 21,
   "metadata": {},
   "outputs": [],
   "source": [
    "## Creating table \"music_store\"\n",
    "try:\n",
    "    cur.execute(\"\"\"\n",
    "    CREATE TABLE IF NOT EXISTS music_store \n",
    "    (\n",
    "        transaction_id int,\n",
    "        customer_name text,\n",
    "        chashier_name text,\n",
    "        year int,\n",
    "        albums_purchased text[]\n",
    "    )\n",
    "    \"\"\")\n",
    "except psycopg2.Error as e:\n",
    "    print(\"Error: Could not create table\")\n",
    "    print(e)"
   ]
  },
  {
   "cell_type": "code",
   "execution_count": 22,
   "metadata": {},
   "outputs": [],
   "source": [
    "# Insert row\n",
    "try: \n",
    "    cur.execute(\n",
    "    \"\"\"\n",
    "    INSERT INTO music_store (transaction_id, customer_name, chashier_name, year, albums_purchased) \\\n",
    "    VALUES (%s, %s, %s, %s, %s)\n",
    "    \"\"\" , (1, 'Amanda', 'Sam', 2000, ['Rubber Soul', 'Let it Be'])\n",
    "    )\n",
    "except psycopg2.Error as e:\n",
    "    print(\"Error: Could not create a row\")\n",
    "    print(e)"
   ]
  },
  {
   "cell_type": "code",
   "execution_count": 23,
   "metadata": {},
   "outputs": [],
   "source": [
    "# Insert row\n",
    "try: \n",
    "    cur.execute(\n",
    "    \"\"\"\n",
    "    INSERT INTO music_store (transaction_id, customer_name, chashier_name, year, albums_purchased) \\\n",
    "    VALUES (%s, %s, %s, %s, %s)\n",
    "    \"\"\" , (2, 'Toby', 'Sam', 2000, ['My Generation'])\n",
    "    )\n",
    "except psycopg2.Error as e:\n",
    "    print(\"Error: Could not create a row\")\n",
    "    print(e)"
   ]
  },
  {
   "cell_type": "code",
   "execution_count": 24,
   "metadata": {},
   "outputs": [],
   "source": [
    "# Insert row\n",
    "try: \n",
    "    cur.execute(\n",
    "    \"\"\"\n",
    "    INSERT INTO music_store (transaction_id, customer_name, chashier_name, year, albums_purchased) \\\n",
    "    VALUES (%s, %s, %s, %s, %s)\n",
    "    \"\"\" , (3, 'Max', 'Bob', 2018, ['Meet the Beatles', 'Help!'])\n",
    "    )\n",
    "except psycopg2.Error as e:\n",
    "    print(\"Error: Could not create a row\")\n",
    "    print(e)"
   ]
  },
  {
   "cell_type": "code",
   "execution_count": 25,
   "metadata": {},
   "outputs": [
    {
     "name": "stdout",
     "output_type": "stream",
     "text": [
      "(1, 'Amanda', 'Sam', 2000, ['Rubber Soul', 'Let it Be'])\n",
      "(2, 'Toby', 'Sam', 2000, ['My Generation'])\n",
      "(3, 'Max', 'Bob', 2018, ['Meet the Beatles', 'Help!'])\n"
     ]
    }
   ],
   "source": [
    "try: \n",
    "    cur.execute(\n",
    "    \"\"\"\n",
    "        SELECT * FROM music_store\n",
    "    \"\"\")\n",
    "except psycopg2.Error as e:\n",
    "    print(e)\n",
    "\n",
    "for crow in cur.fetchall():\n",
    "    print(crow)"
   ]
  },
  {
   "cell_type": "markdown",
   "metadata": {},
   "source": [
    "#### Moving to 1st Normal Form (1NF)\n",
    "This data has not been normalized. To get this data into 1st normal form, we will need to remove any collections or list of data. We need to break up the list of songs into individual rows. \n",
    "\n",
    "`Table Name: music_store\n",
    "column 0: Transaction Id\n",
    "column 1: Customer Name\n",
    "column 2: Cashier Name\n",
    "column 3: Year \n",
    "column 4: Albums Purchased`\n",
    "\n",
    "Data Rows:\n",
    "\n",
    "* (1, 'Amanda', 'Sam', 2000, 'Rubber Soul')\n",
    "* (1, 'Amanda', 'Sam', 2000, 'Let it Be')\n",
    "* (2, 'Toby', 'Sam', 2000, 'My Generation')\n",
    "* (3, 'Max', 'Bob', 2018, 'Help!')\n",
    "* (3, 'Max', 'Bob', 2018, 'Meet the Beatles')"
   ]
  },
  {
   "cell_type": "code",
   "execution_count": 26,
   "metadata": {},
   "outputs": [],
   "source": [
    "## Creating table \"music_store2\" on 1F \n",
    "try:\n",
    "    cur.execute(\"\"\"\n",
    "    CREATE TABLE IF NOT EXISTS music_store2\n",
    "    (\n",
    "        transaction_id int,\n",
    "        customer_name text,\n",
    "        chashier_name text,\n",
    "        year int,\n",
    "        albums_purchased text\n",
    "    )\n",
    "    \"\"\")\n",
    "except psycopg2.Error as e:\n",
    "    print(\"Error: Could not create table\")\n",
    "    print(e)"
   ]
  },
  {
   "cell_type": "code",
   "execution_count": 27,
   "metadata": {},
   "outputs": [],
   "source": [
    "# Insert row\n",
    "try: \n",
    "    cur.execute(\n",
    "    \"\"\"\n",
    "    INSERT INTO music_store2 (transaction_id, customer_name, chashier_name, year, albums_purchased) \\\n",
    "    VALUES (%s, %s, %s, %s, %s)\n",
    "    \"\"\" , (1, 'Amanda', 'Sam', 2000, 'Rubber Soul')\n",
    "    )\n",
    "except psycopg2.Error as e:\n",
    "    print(\"Error: Could not create a row\")\n",
    "    print(e)"
   ]
  },
  {
   "cell_type": "code",
   "execution_count": 28,
   "metadata": {},
   "outputs": [],
   "source": [
    "# Insert row\n",
    "try: \n",
    "    cur.execute(\n",
    "    \"\"\"\n",
    "    INSERT INTO music_store2 (transaction_id, customer_name, chashier_name, year, albums_purchased) \\\n",
    "    VALUES (%s, %s, %s, %s, %s)\n",
    "    \"\"\" , (1, 'Amanda', 'Sam', 2000,'Let it Be')\n",
    "    )\n",
    "except psycopg2.Error as e:\n",
    "    print(\"Error: Could not create a row\")\n",
    "    print(e)"
   ]
  },
  {
   "cell_type": "code",
   "execution_count": 29,
   "metadata": {},
   "outputs": [],
   "source": [
    "# Insert row\n",
    "try: \n",
    "    cur.execute(\n",
    "    \"\"\"\n",
    "    INSERT INTO music_store2 (transaction_id, customer_name, chashier_name, year, albums_purchased) \\\n",
    "    VALUES (%s, %s, %s, %s, %s)\n",
    "    \"\"\" , (2, 'Toby', 'Sam', 2000, 'My Generation')\n",
    "    )\n",
    "except psycopg2.Error as e:\n",
    "    print(\"Error: Could not create a row\")\n",
    "    print(e)"
   ]
  },
  {
   "cell_type": "code",
   "execution_count": 30,
   "metadata": {},
   "outputs": [],
   "source": [
    "# Insert row\n",
    "try: \n",
    "    cur.execute(\n",
    "    \"\"\"\n",
    "    INSERT INTO music_store2 (transaction_id, customer_name, chashier_name, year, albums_purchased) \\\n",
    "    VALUES (%s, %s, %s, %s, %s)\n",
    "    \"\"\" , (3, 'Max', 'Bob', 2018, 'Meet the Beatles')\n",
    "    )\n",
    "except psycopg2.Error as e:\n",
    "    print(\"Error: Could not create a row\")\n",
    "    print(e)"
   ]
  },
  {
   "cell_type": "code",
   "execution_count": 31,
   "metadata": {},
   "outputs": [],
   "source": [
    "# Insert row\n",
    "try: \n",
    "    cur.execute(\n",
    "    \"\"\"\n",
    "    INSERT INTO music_store2 (transaction_id, customer_name, chashier_name, year, albums_purchased) \\\n",
    "    VALUES (%s, %s, %s, %s, %s)\n",
    "    \"\"\" , (3, 'Max', 'Bob', 2018,'Help!')\n",
    "    )\n",
    "except psycopg2.Error as e:\n",
    "    print(\"Error: Could not create a row\")\n",
    "    print(e)"
   ]
  },
  {
   "cell_type": "code",
   "execution_count": 32,
   "metadata": {},
   "outputs": [
    {
     "name": "stdout",
     "output_type": "stream",
     "text": [
      "(1, 'Amanda', 'Sam', 2000, 'Rubber Soul')\n",
      "(1, 'Amanda', 'Sam', 2000, 'Let it Be')\n",
      "(2, 'Toby', 'Sam', 2000, 'My Generation')\n",
      "(3, 'Max', 'Bob', 2018, 'Meet the Beatles')\n",
      "(3, 'Max', 'Bob', 2018, 'Help!')\n"
     ]
    }
   ],
   "source": [
    "try: \n",
    "    cur.execute(\n",
    "    \"\"\"\n",
    "        SELECT * FROM music_store2\n",
    "    \"\"\")\n",
    "except psycopg2.Error as e:\n",
    "    print(e)\n",
    "\n",
    "for crow in cur.fetchall():\n",
    "    print(crow)"
   ]
  },
  {
   "cell_type": "markdown",
   "metadata": {},
   "source": [
    "#### Moving to 2nd Normal Form (2NF)\n",
    "We have moved our data to be in 1NF which is the first step in moving to 2nd Normal Form. Our table is not yet in 2nd Normal Form. While each of our records in our table is unique, our Primary key (transaction id) is not unique. We need to break this up into two tables, transactions and albums sold. \n",
    "\n",
    "`Table Name: transactions \n",
    "column 0: Transaction ID\n",
    "column 1: Customer Name\n",
    "column 2: Cashier Name\n",
    "column 3: Year `\n",
    "\n",
    "`Table Name: albums_sold\n",
    "column 0: Album Id\n",
    "column 1: Transaction Id\n",
    "column 3: Album Name` \n",
    "\n",
    "##### Data Rows\n",
    "\n",
    "* Table: transactions\n",
    " * (1, 'Amanda', 'Sam', 2000)\n",
    " * (2, 'Toby', 'Sam', 2000)\n",
    " * (3, 'Max', 'Bob', 2018)\n",
    "\n",
    "* Table: albums_sold\n",
    " * (1, 1, 'Rubber Soul')\n",
    " * (2, 1, 'Let it Be')\n",
    " * (3, 2, 'My Generation')\n",
    " * (4, 3, 'Meet the Beatles')\n",
    " * (5, 3, 'Help!')"
   ]
  },
  {
   "cell_type": "code",
   "execution_count": 33,
   "metadata": {},
   "outputs": [
    {
     "name": "stdout",
     "output_type": "stream",
     "text": [
      "Table created\n"
     ]
    }
   ],
   "source": [
    "## Creating table \"transactions\" on 2F \n",
    "try:\n",
    "    cur.execute(\"\"\"\n",
    "    CREATE TABLE IF NOT EXISTS transactions\n",
    "    (\n",
    "        transaction_id int,\n",
    "        customer_name text,\n",
    "        chashier_name text,\n",
    "        year int\n",
    "    )\n",
    "    \"\"\")\n",
    "    print (\"Table created\")\n",
    "except psycopg2.Error as e:\n",
    "    print(\"Error: Could not create table\")\n",
    "    print(e)"
   ]
  },
  {
   "cell_type": "code",
   "execution_count": 34,
   "metadata": {},
   "outputs": [
    {
     "name": "stdout",
     "output_type": "stream",
     "text": [
      "Table created\n"
     ]
    }
   ],
   "source": [
    "## Creating table \"albums_sold\" on 2F \n",
    "try:\n",
    "    cur.execute(\"\"\"\n",
    "    CREATE TABLE IF NOT EXISTS albums_sold\n",
    "    (\n",
    "        album_id int, \n",
    "        transaction_id int,\n",
    "        album_name text\n",
    "    )\n",
    "    \"\"\")\n",
    "    print (\"Table created\")    \n",
    "except psycopg2.Error as e:\n",
    "    print(\"Error: Could not create table\")\n",
    "    print(e)"
   ]
  },
  {
   "cell_type": "code",
   "execution_count": 35,
   "metadata": {},
   "outputs": [
    {
     "name": "stdout",
     "output_type": "stream",
     "text": [
      "Row inserted (1, 'Amanda', 'Sam', 2000)\n",
      "Row inserted (2, 'Toby', 'Sam', 2000)\n",
      "Row inserted (3, 'Max', 'Bob', 2018)\n"
     ]
    }
   ],
   "source": [
    "# Insert row in transactions\n",
    "def insert_into_transactions(params):\n",
    "    try: \n",
    "        cur.execute(\n",
    "        \"\"\"\n",
    "        INSERT INTO transactions (transaction_id, customer_name, chashier_name, year) \\\n",
    "        VALUES (%s, %s, %s, %s)\n",
    "        \"\"\" , params\n",
    "        )\n",
    "        print(f\"Row inserted {params}\")\n",
    "    except psycopg2.Error as e:\n",
    "        print(\"Error: Could not create a row\")\n",
    "        print(e)\n",
    "        \n",
    "insert_into_transactions((1, 'Amanda', 'Sam', 2000))\n",
    "insert_into_transactions((2, 'Toby', 'Sam', 2000))\n",
    "insert_into_transactions((3, 'Max', 'Bob', 2018))"
   ]
  },
  {
   "cell_type": "code",
   "execution_count": 36,
   "metadata": {},
   "outputs": [
    {
     "name": "stdout",
     "output_type": "stream",
     "text": [
      "Row inserted (1, 1, 'Rubber Soul')\n",
      "Row inserted (2, 1, 'Let it Be')\n",
      "Row inserted (3, 2, 'My Generation')\n",
      "Row inserted (4, 3, 'Meet the Beatles')\n",
      "Row inserted (5, 3, 'Help!')\n"
     ]
    }
   ],
   "source": [
    "# Insert row in albums_sold\n",
    "def insert_into_albums_sold(params):\n",
    "    try: \n",
    "        cur.execute(\n",
    "        \"\"\"\n",
    "        INSERT INTO albums_sold (album_id, transaction_id, album_name) \\\n",
    "        VALUES (%s, %s, %s)\n",
    "        \"\"\" , params\n",
    "        )\n",
    "        print(f\"Row inserted {params}\")\n",
    "    except psycopg2.Error as e:\n",
    "        print(\"Error: Could not create a row\")\n",
    "        print(e)\n",
    "        \n",
    "insert_into_albums_sold((1, 1, 'Rubber Soul'))\n",
    "insert_into_albums_sold((2, 1, 'Let it Be'))\n",
    "insert_into_albums_sold((3, 2, 'My Generation'))\n",
    "insert_into_albums_sold((4, 3, 'Meet the Beatles'))\n",
    "insert_into_albums_sold((5, 3, 'Help!'))"
   ]
  },
  {
   "cell_type": "code",
   "execution_count": 37,
   "metadata": {},
   "outputs": [
    {
     "name": "stdout",
     "output_type": "stream",
     "text": [
      "(1, 'Amanda', 'Sam', 2000)\n",
      "(2, 'Toby', 'Sam', 2000)\n",
      "(3, 'Max', 'Bob', 2018)\n"
     ]
    }
   ],
   "source": [
    "try: \n",
    "    cur.execute(\n",
    "    \"\"\"\n",
    "        SELECT * FROM transactions\n",
    "    \"\"\")\n",
    "except psycopg2.Error as e:\n",
    "    print(e)\n",
    "\n",
    "for crow in cur.fetchall():\n",
    "    print(crow)"
   ]
  },
  {
   "cell_type": "code",
   "execution_count": 38,
   "metadata": {},
   "outputs": [
    {
     "name": "stdout",
     "output_type": "stream",
     "text": [
      "(1, 1, 'Rubber Soul')\n",
      "(2, 1, 'Let it Be')\n",
      "(3, 2, 'My Generation')\n",
      "(4, 3, 'Meet the Beatles')\n",
      "(5, 3, 'Help!')\n"
     ]
    }
   ],
   "source": [
    "try: \n",
    "    cur.execute(\n",
    "    \"\"\"\n",
    "        SELECT * FROM albums_sold\n",
    "    \"\"\")\n",
    "except psycopg2.Error as e:\n",
    "    print(e)\n",
    "\n",
    "for crow in cur.fetchall():\n",
    "    print(crow)"
   ]
  },
  {
   "cell_type": "markdown",
   "metadata": {},
   "source": [
    "#### Let's do a `JOIN` on this table so we can get all the information we had in our first Table. "
   ]
  },
  {
   "cell_type": "code",
   "execution_count": 39,
   "metadata": {},
   "outputs": [
    {
     "name": "stdout",
     "output_type": "stream",
     "text": [
      "(1, 'Amanda', 'Sam', 2000, 1, 1, 'Rubber Soul')\n",
      "(1, 'Amanda', 'Sam', 2000, 2, 1, 'Let it Be')\n",
      "(2, 'Toby', 'Sam', 2000, 3, 2, 'My Generation')\n",
      "(3, 'Max', 'Bob', 2018, 4, 3, 'Meet the Beatles')\n",
      "(3, 'Max', 'Bob', 2018, 5, 3, 'Help!')\n"
     ]
    }
   ],
   "source": [
    "# We complete the join on the transactions and album_sold tables\n",
    "\n",
    "try: \n",
    "    cur.execute(\"SELECT * FROM transactions JOIN albums_sold ON transactions.transaction_id = albums_sold.transaction_id ;\")\n",
    "except psycopg2.Error as e: \n",
    "    print(\"Error: select *\")\n",
    "    print (e)\n",
    "\n",
    "row = cur.fetchone()\n",
    "while row:\n",
    "   print(row)\n",
    "   row = cur.fetchone()\n"
   ]
  },
  {
   "cell_type": "markdown",
   "metadata": {},
   "source": [
    "#### Moving to 3rd Normal Form (3NF)\n",
    "Let's check our table for any transitive dependencies. Transactions can remove Cashier Name to its own table, called Employees, which will leave us with 3 tables. \n",
    "`Table Name: transactions2 \n",
    "column 0: transaction Id\n",
    "column 1: Customer Name\n",
    "column 2: Cashier Id\n",
    "column 3: Year `\n",
    "\n",
    "`Table Name: albums_sold\n",
    "column 0: Album Id\n",
    "column 1: Transaction Id\n",
    "column 3: Album Name` \n",
    "\n",
    "`Table Name: employees\n",
    "column 0: Employee Id\n",
    "column 1: Employee Name `\n",
    "\n",
    "##### Data Rows\n",
    "\n",
    "* Table: transactions2\n",
    " * (1, 'Amanda', 1, 2000)\n",
    " * (2, 'Toby', 1, 2000)\n",
    " * (3, 'Max', 2, 2018)\n",
    "* Table: albums_sold\n",
    " * (1, 1, 'Rubber Soul')\n",
    " * (2, 1, 'Let it Be')\n",
    " * (3, 2, 'My Generation')\n",
    " * (4, 3, 'Meet the Beatles')\n",
    " * (5, 3, 'Help!')\n",
    "* Table: employees\n",
    " * (1, 'Sam')\n",
    " * (2, 'Bob')\n",
    "\n"
   ]
  },
  {
   "cell_type": "code",
   "execution_count": 40,
   "metadata": {},
   "outputs": [
    {
     "name": "stdout",
     "output_type": "stream",
     "text": [
      "Table created\n"
     ]
    }
   ],
   "source": [
    "## Creating table \"transactions2\" on 3F \n",
    "try:\n",
    "    cur.execute(\"\"\"\n",
    "    CREATE TABLE IF NOT EXISTS transactions2\n",
    "    (\n",
    "        transaction_id int,\n",
    "        customer_name text,\n",
    "        cashier_id int,\n",
    "        year int\n",
    "    )\n",
    "    \"\"\")\n",
    "    print (\"Table created\")\n",
    "except psycopg2.Error as e:\n",
    "    print(\"Error: Could not create table\")\n",
    "    print(e)"
   ]
  },
  {
   "cell_type": "code",
   "execution_count": 41,
   "metadata": {},
   "outputs": [
    {
     "name": "stdout",
     "output_type": "stream",
     "text": [
      "Table created\n"
     ]
    }
   ],
   "source": [
    "## Creating table \"albums_sold2\" on 3F \n",
    "try:\n",
    "    cur.execute(\"\"\"\n",
    "    CREATE TABLE IF NOT EXISTS albums_sold\n",
    "    (\n",
    "        album_id int, \n",
    "        transaction_id int,\n",
    "        album_name text\n",
    "    )\n",
    "    \"\"\")\n",
    "    print (\"Table created\")    \n",
    "except psycopg2.Error as e:\n",
    "    print(\"Error: Could not create table\")\n",
    "    print(e)"
   ]
  },
  {
   "cell_type": "code",
   "execution_count": 42,
   "metadata": {},
   "outputs": [
    {
     "name": "stdout",
     "output_type": "stream",
     "text": [
      "Table created\n"
     ]
    }
   ],
   "source": [
    "## Creating table \"employees\" on 3F \n",
    "try:\n",
    "    cur.execute(\"\"\"\n",
    "    CREATE TABLE IF NOT EXISTS employees\n",
    "    (\n",
    "        employee_id int, \n",
    "        employee_name text\n",
    "    )\n",
    "    \"\"\")\n",
    "    print (\"Table created\")    \n",
    "except psycopg2.Error as e:\n",
    "    print(\"Error: Could not create table\")\n",
    "    print(e)"
   ]
  },
  {
   "cell_type": "code",
   "execution_count": 43,
   "metadata": {},
   "outputs": [
    {
     "name": "stdout",
     "output_type": "stream",
     "text": [
      "Row inserted (1, 'Amanda', 1, 2000)\n",
      "Row inserted (2, 'Toby', 1, 2000)\n",
      "Row inserted (3, 'Max', 2, 2018)\n"
     ]
    }
   ],
   "source": [
    "# Insert row in transactions\n",
    "def insert_into_transactions2(params):\n",
    "    try: \n",
    "        cur.execute(\n",
    "        \"\"\"\n",
    "        INSERT INTO transactions2 (transaction_id, customer_name, cashier_id, year) \\\n",
    "        VALUES (%s, %s, %s, %s)\n",
    "        \"\"\" , params\n",
    "        )\n",
    "        print(f\"Row inserted {params}\")\n",
    "    except psycopg2.Error as e:\n",
    "        print(\"Error: Could not create a row\")\n",
    "        print(e)\n",
    "        \n",
    "insert_into_transactions2((1, 'Amanda', 1, 2000))\n",
    "insert_into_transactions2((2, 'Toby', 1, 2000))\n",
    "insert_into_transactions2((3, 'Max', 2, 2018))"
   ]
  },
  {
   "cell_type": "code",
   "execution_count": 44,
   "metadata": {},
   "outputs": [],
   "source": [
    "# Don't insert rows for albums_sold beacause has same information from previous exercises"
   ]
  },
  {
   "cell_type": "code",
   "execution_count": 45,
   "metadata": {},
   "outputs": [
    {
     "name": "stdout",
     "output_type": "stream",
     "text": [
      "Row inserted (1, 'Sam')\n",
      "Row inserted (2, 'Bob')\n"
     ]
    }
   ],
   "source": [
    "# Insert row in transactions\n",
    "def insert_into_employees(params):\n",
    "    try: \n",
    "        cur.execute(\n",
    "        \"\"\"\n",
    "        INSERT INTO employees (employee_id, employee_name) \\\n",
    "        VALUES (%s, %s)\n",
    "        \"\"\" , params\n",
    "        )\n",
    "        print(f\"Row inserted {params}\")\n",
    "    except psycopg2.Error as e:\n",
    "        print(\"Error: Could not create a row\")\n",
    "        print(e)\n",
    "        \n",
    "insert_into_employees((1, 'Sam'))\n",
    "insert_into_employees((2, 'Bob'))"
   ]
  },
  {
   "cell_type": "markdown",
   "metadata": {},
   "source": [
    "#### Let's do two `JOIN` on these 3 tables so we can get all the information we had in our first Table. "
   ]
  },
  {
   "cell_type": "code",
   "execution_count": 46,
   "metadata": {},
   "outputs": [
    {
     "name": "stdout",
     "output_type": "stream",
     "text": [
      "(1, 'Amanda', 1, 2000, 1, 1, 'Rubber Soul', 1, 'Sam')\n",
      "(1, 'Amanda', 1, 2000, 2, 1, 'Let it Be', 1, 'Sam')\n",
      "(2, 'Toby', 1, 2000, 3, 2, 'My Generation', 1, 'Sam')\n",
      "(3, 'Max', 2, 2018, 4, 3, 'Meet the Beatles', 2, 'Bob')\n",
      "(3, 'Max', 2, 2018, 5, 3, 'Help!', 2, 'Bob')\n"
     ]
    }
   ],
   "source": [
    "try: \n",
    "    cur.execute(\"SELECT * FROM (transactions2 JOIN albums_sold ON \\\n",
    "                               transactions2.transaction_id = albums_sold.transaction_id) JOIN \\\n",
    "                               employees ON transactions2.cashier_id=employees.employee_id;\")\n",
    "except psycopg2.Error as e: \n",
    "    print(\"Error: select *\")\n",
    "    print (e)\n",
    "\n",
    "row = cur.fetchone()\n",
    "while row:\n",
    "   print(row)\n",
    "   row = cur.fetchone()"
   ]
  },
  {
   "cell_type": "markdown",
   "metadata": {},
   "source": [
    "### DONE! We have Normalized our dataset! "
   ]
  },
  {
   "cell_type": "markdown",
   "metadata": {},
   "source": [
    "### For the sake of the demo, Iet's drop the tables. "
   ]
  },
  {
   "cell_type": "code",
   "execution_count": 47,
   "metadata": {},
   "outputs": [],
   "source": [
    "try: \n",
    "    cur.execute(\"DROP table music_store\")\n",
    "except psycopg2.Error as e: \n",
    "    print(\"Error: Dropping table\")\n",
    "    print (e)\n",
    "try: \n",
    "    cur.execute(\"DROP table music_store2\")\n",
    "except psycopg2.Error as e: \n",
    "    print(\"Error: Dropping table\")\n",
    "    print (e)\n",
    "try: \n",
    "    cur.execute(\"DROP table albums_sold\")\n",
    "except psycopg2.Error as e: \n",
    "    print(\"Error: Dropping table\")\n",
    "    print (e)\n",
    "try: \n",
    "    cur.execute(\"DROP table employees\")\n",
    "except psycopg2.Error as e: \n",
    "    print(\"Error: Dropping table\")\n",
    "    print (e)\n",
    "try: \n",
    "    cur.execute(\"DROP table transactions\")\n",
    "except psycopg2.Error as e: \n",
    "    print(\"Error: Dropping table\")\n",
    "    print (e)\n",
    "try: \n",
    "    cur.execute(\"DROP table transactions2\")\n",
    "except psycopg2.Error as e: \n",
    "    print(\"Error: Dropping table\")\n",
    "    print (e)"
   ]
  },
  {
   "cell_type": "markdown",
   "metadata": {},
   "source": [
    "### And finally close the cursor and connection. "
   ]
  },
  {
   "cell_type": "code",
   "execution_count": 48,
   "metadata": {},
   "outputs": [],
   "source": [
    "cur.close()\n",
    "conn.close()"
   ]
  },
  {
   "cell_type": "markdown",
   "metadata": {},
   "source": [
    "<h2><span style='color:blue'>Remove Environment</span></h2>"
   ]
  },
  {
   "cell_type": "code",
   "execution_count": 49,
   "metadata": {},
   "outputs": [],
   "source": [
    "# Clears proxy\n",
    "pids_kubectl_proxy = !ps -ef|fgrep 'kubectl port-forward'|fgrep $CHART_INSTANCE_NAME|cut -d ' ' -f4\n",
    "!kill -9 {pids_kubectl_proxy[0]}"
   ]
  },
  {
   "cell_type": "code",
   "execution_count": 17,
   "metadata": {},
   "outputs": [
    {
     "name": "stdout",
     "output_type": "stream",
     "text": [
      "release \"dend-l2e2\" uninstalled\n"
     ]
    }
   ],
   "source": [
    "# Removes chart instances\n",
    "!helm uninstall {CHART_INSTANCE_NAME}"
   ]
  },
  {
   "cell_type": "code",
   "execution_count": 18,
   "metadata": {},
   "outputs": [
    {
     "name": "stdout",
     "output_type": "stream",
     "text": [
      "kubectl delete pvc data-dend-l2e2-postgresql-0\n",
      "persistentvolumeclaim \"data-dend-l2e2-postgresql-0\" deleted\n"
     ]
    }
   ],
   "source": [
    "# Removes persistent Volume\n",
    "!kubectl get pvc|fgrep {CHART_INSTANCE_NAME}|cut -d ' '  -f1| xargs -t kubectl delete pvc"
   ]
  },
  {
   "cell_type": "code",
   "execution_count": null,
   "metadata": {},
   "outputs": [],
   "source": []
  }
 ],
 "metadata": {
  "kernelspec": {
   "display_name": "Python 3",
   "language": "python",
   "name": "python3"
  },
  "language_info": {
   "codemirror_mode": {
    "name": "ipython",
    "version": 3
   },
   "file_extension": ".py",
   "mimetype": "text/x-python",
   "name": "python",
   "nbconvert_exporter": "python",
   "pygments_lexer": "ipython3",
   "version": "3.7.3"
  }
 },
 "nbformat": 4,
 "nbformat_minor": 4
}
