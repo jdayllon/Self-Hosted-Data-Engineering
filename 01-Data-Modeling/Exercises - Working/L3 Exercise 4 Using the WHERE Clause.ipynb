{
 "cells": [
  {
   "cell_type": "markdown",
   "metadata": {},
   "source": [
    "# Lesson 3 Demo 4: Using the WHERE Clause\n",
    "<img src=\"https://upload.wikimedia.org/wikipedia/commons/5/5e/Cassandra_logo.svg\" width=\"250\" height=\"250\">"
   ]
  },
  {
   "cell_type": "markdown",
   "metadata": {},
   "source": [
    "### In this exercise we are going to walk through the basics of using the WHERE clause in Apache Cassandra.\n",
    "\n",
    "##### denotes where the code needs to be completed.\n",
    "\n",
    "Note: __Do not__ click the blue Preview button in the lower task bar"
   ]
  },
  {
   "cell_type": "markdown",
   "metadata": {},
   "source": [
    "#### We will use a python wrapper/ python driver called cassandra to run the Apache Cassandra queries. This library should be preinstalled but in the future to install this library you can run this command in a notebook to install locally: \n",
    "! pip install cassandra-driver\n",
    "#### More documentation can be found here:  https://datastax.github.io/python-driver/"
   ]
  },
  {
   "cell_type": "markdown",
   "metadata": {},
   "source": [
    "<h3><span style='color:blue'>Using K8S Cassandra</span></h3>\n",
    "​\n",
    "Obviously you need a k8s avaible like: Minikube, Minishift, Docker (with K8s)\n",
    "​\n",
    "Helm is need to, go to [helm.sh](http://helm.sh)"
   ]
  },
  {
   "cell_type": "code",
   "execution_count": 1,
   "metadata": {},
   "outputs": [],
   "source": [
    "#Checks if Helm V3 is available\n",
    "helm_version = !helm version --short\n",
    "assert helm_version[0][:2] == 'v3', \"Expected HELM version not available, visit https://helm.sh\""
   ]
  },
  {
   "cell_type": "code",
   "execution_count": 2,
   "metadata": {},
   "outputs": [
    {
     "name": "stdout",
     "output_type": "stream",
     "text": [
      "\"bitnami\" has been added to your repositories\n"
     ]
    }
   ],
   "source": [
    "!helm repo add bitnami https://charts.bitnami.com/bitnami"
   ]
  },
  {
   "cell_type": "code",
   "execution_count": 3,
   "metadata": {},
   "outputs": [],
   "source": [
    "CHART_INSTANCE_NAME = 'dend-l3e4'\n",
    "CASSANDRA_KEYSPACE = CHART_INSTANCE_NAME.replace('-','_')\n",
    "CASSANDRA_PASSWORD = 'password'"
   ]
  },
  {
   "cell_type": "code",
   "execution_count": 4,
   "metadata": {},
   "outputs": [
    {
     "name": "stdout",
     "output_type": "stream",
     "text": [
      "Overwriting dend-cassandra-customize.yaml\n"
     ]
    }
   ],
   "source": [
    "%%writefile dend-cassandra-customize.yaml\n",
    "service:\n",
    "    type: NodePort\n",
    "    nodePorts:\n",
    "        cql: 30942\n",
    "        rcp: 30160\n",
    "dbUser:\n",
    "    user: cassandra\n",
    "    password: password"
   ]
  },
  {
   "cell_type": "code",
   "execution_count": 5,
   "metadata": {},
   "outputs": [],
   "source": [
    "helm_chart_out = !helm install {CHART_INSTANCE_NAME} bitnami/cassandra --values dend-cassandra-customize.yaml\n",
    "#for c_out in helm_chart_out: print(c_out)"
   ]
  },
  {
   "cell_type": "code",
   "execution_count": 6,
   "metadata": {},
   "outputs": [
    {
     "name": "stdout",
     "output_type": "stream",
     "text": [
      "Waiting for Cassandra pod to be ready\n",
      "Waiting for Cassandra pod to be ready\n",
      "Waiting for Cassandra pod to be ready\n",
      "Waiting for Cassandra pod to be ready\n",
      "Waiting for Cassandra pod to be ready\n",
      "Waiting for Cassandra pod to be ready\n",
      "Waiting for Cassandra pod to be ready\n",
      "Waiting for Cassandra pod to be ready\n",
      "Waiting for Cassandra pod to be ready\n",
      "Waiting for Cassandra pod to be ready\n",
      "Waiting for Cassandra pod to be ready\n",
      "Waiting for Cassandra pod to be ready\n",
      "Waiting for Cassandra pod to be ready\n"
     ]
    }
   ],
   "source": [
    "#Thanks to @reuvenharrison https://medium.com/@reuvenharrison/how-to-wait-for-a-kubernetes-pod-to-be-ready-one-liner-144bbbb5a76f\n",
    "!while [[ $(kubectl get pods -l app=cassandra -o 'jsonpath={..status.conditions[?(@.type==\"Ready\")].status}') != \"True\" ]]; do echo \"Waiting for Cassandra pod to be ready\" && sleep 5; done"
   ]
  },
  {
   "cell_type": "code",
   "execution_count": 7,
   "metadata": {},
   "outputs": [
    {
     "name": "stdout",
     "output_type": "stream",
     "text": [
      "NAME                        READY   STATUS    RESTARTS   AGE\n",
      "pod/dend-l3e4-cassandra-0   1/1     Running   0          68s\n",
      "\n",
      "NAME                                   TYPE        CLUSTER-IP       EXTERNAL-IP   PORT(S)                                        AGE\n",
      "service/dend-l3e4-cassandra            NodePort    10.103.180.114   <none>        9042:30942/TCP,9160:31656/TCP                  68s\n",
      "service/dend-l3e4-cassandra-headless   ClusterIP   None             <none>        7000/TCP,7001/TCP,7199/TCP,9042/TCP,9160/TCP   68s\n",
      "service/kubernetes                     ClusterIP   10.96.0.1        <none>        443/TCP                                        52m\n"
     ]
    }
   ],
   "source": [
    "!kubectl get pods,svc"
   ]
  },
  {
   "cell_type": "code",
   "execution_count": 8,
   "metadata": {},
   "outputs": [],
   "source": [
    "installed_tabulate = !pip list|fgrep tabulate\n",
    "if len(installed_tabulate) == 0:\n",
    "    !pip install tabulate\n",
    "\n",
    "from dend_cassandra_commons import run_query, print_query"
   ]
  },
  {
   "cell_type": "markdown",
   "metadata": {},
   "source": [
    "#### Import Apache Cassandra python package"
   ]
  },
  {
   "cell_type": "code",
   "execution_count": 9,
   "metadata": {},
   "outputs": [],
   "source": [
    "import cassandra"
   ]
  },
  {
   "cell_type": "markdown",
   "metadata": {},
   "source": [
    "### First let's create a connection to the database"
   ]
  },
  {
   "cell_type": "code",
   "execution_count": 10,
   "metadata": {},
   "outputs": [
    {
     "name": "stdout",
     "output_type": "stream",
     "text": [
      "[<Host: 127.0.0.1:30942 datacenter1>]\n"
     ]
    }
   ],
   "source": [
    "# This should make a connection to a Cassandra instance your kubernetes instance\n",
    "from cassandra.cluster import Cluster\n",
    "from cassandra.auth import PlainTextAuthProvider\n",
    "\n",
    "try: \n",
    "    # Added connection auth for bitnami / helm / cassandra bundle\n",
    "    auth_provider = PlainTextAuthProvider(username='cassandra', password='password')\n",
    "    cluster = Cluster(['127.0.0.1'], port=30942, auth_provider=auth_provider) #If you have a locally installed Apache Cassandra instance\n",
    "    session = cluster.connect()\n",
    "    print(session.hosts)\n",
    "except Exception as e:\n",
    "    print(f\"Error: {e}\")"
   ]
  },
  {
   "cell_type": "markdown",
   "metadata": {},
   "source": [
    "### Let's create a keyspace to do our work in "
   ]
  },
  {
   "cell_type": "code",
   "execution_count": 11,
   "metadata": {},
   "outputs": [],
   "source": [
    "try:\n",
    "    session.execute(f\"\"\"\n",
    "    CREATE KEYSPACE IF NOT EXISTS {CASSANDRA_KEYSPACE} \n",
    "    WITH REPLICATION = \n",
    "    {{ 'class' : 'SimpleStrategy', 'replication_factor' : 1 }}\"\"\"\n",
    ")\n",
    "\n",
    "except Exception as e:\n",
    "    print(e)"
   ]
  },
  {
   "cell_type": "markdown",
   "metadata": {},
   "source": [
    "#### Connect to our Keyspace. Compare this to how we had to create a new session in PostgreSQL.  "
   ]
  },
  {
   "cell_type": "code",
   "execution_count": 12,
   "metadata": {},
   "outputs": [],
   "source": [
    "try:\n",
    "    session.set_keyspace(CASSANDRA_KEYSPACE)\n",
    "except Exception as e:\n",
    "    print(e)"
   ]
  },
  {
   "cell_type": "markdown",
   "metadata": {},
   "source": [
    "### Let's imagine we would like to start creating a new Music Library of albums. \n",
    "### We want to ask 4 question of our data\n",
    "#### 1. Give me every album in my music library that was released in a 1965 year\n",
    "#### 2. Give me the album that is in my music library that was released in 1965 by \"The Beatles\"\n",
    "#### 3. Give me all the albums released in a given year that was made in London \n",
    "#### 4. Give me the city that the album \"Rubber Soul\" was recorded"
   ]
  },
  {
   "cell_type": "markdown",
   "metadata": {},
   "source": [
    "### Here is our Collection of Data\n",
    "* (1970, \"The Beatles\", \"Let it Be\", \"Liverpool\")\n",
    "* (1965, \"The Beatles\", \"Rubber Soul\", \"Oxford\")\n",
    "* (1965, \"The Who\", \"My Generation\", \"London\")\n",
    "* (1966, \"The Monkees\", \"The Monkees\", \"Los Angeles\")\n",
    "* (1970, \"The Carpenters\", \"Close To You\", \"San Diego\")"
   ]
  },
  {
   "cell_type": "markdown",
   "metadata": {},
   "source": [
    "### How should we model this data? What should be our Primary Key and Partition Key? Since our data is looking for the YEAR let's start with that. From there we will add clustering columns on Artist Name and Album Name."
   ]
  },
  {
   "cell_type": "code",
   "execution_count": 13,
   "metadata": {},
   "outputs": [],
   "source": [
    "query = \"CREATE TABLE IF NOT EXISTS music_library \"\n",
    "query = query + \"(year int, artist_name text, album_name text, city text, PRIMARY KEY (year, artist_name, album_name))\"\n",
    "try:\n",
    "    session.execute(query)\n",
    "except Exception as e:\n",
    "    print(e)"
   ]
  },
  {
   "cell_type": "markdown",
   "metadata": {},
   "source": [
    "### Let's insert our data into of table"
   ]
  },
  {
   "cell_type": "code",
   "execution_count": 14,
   "metadata": {},
   "outputs": [],
   "source": [
    "music_lib_ins_query = \"INSERT INTO music_library (year, artist_name, album_name, city)\"\n",
    "music_lib_ins_query += \" VALUES (%s, %s, %s, %s)\"\n",
    "    \n",
    "music_library_data = [\n",
    "    (1970, \"The Beatles\", \"Let it Be\", \"Liverpool\"),\n",
    "    (1965, \"The Beatles\", \"Rubber Soul\", \"Oxford\"),\n",
    "    (1965, \"The Who\", \"My Generation\", \"London\"),\n",
    "    (1966, \"The Monkees\", \"The Monkees\", \"Los Angeles\"),\n",
    "    (1970, \"The Carpenters\", \"Close To You\", \"San Diego\"),\n",
    "]\n",
    "\n",
    "for ele in music_library_data:\n",
    "    run_query(session, music_lib_ins_query, ele)"
   ]
  },
  {
   "cell_type": "code",
   "execution_count": 15,
   "metadata": {},
   "outputs": [
    {
     "name": "stdout",
     "output_type": "stream",
     "text": [
      "  year  artist_name     album_name     city\n",
      "------  --------------  -------------  -----------\n",
      "  1965  The Beatles     Rubber Soul    Oxford\n",
      "  1965  The Who         My Generation  London\n",
      "  1970  The Beatles     Let it Be      Liverpool\n",
      "  1970  The Carpenters  Close To You   San Diego\n",
      "  1966  The Monkees     The Monkees    Los Angeles\n"
     ]
    }
   ],
   "source": [
    "music_lib_sel_query_all = \"select * from music_library\"\n",
    "_ = print_query(session, music_lib_sel_query_all)"
   ]
  },
  {
   "cell_type": "markdown",
   "metadata": {},
   "source": [
    "### Let's Validate our Data Model with our 4 queries.\n",
    "\n",
    "Query 1: _Give me every album in my music library that was released in a 1965 year_"
   ]
  },
  {
   "cell_type": "code",
   "execution_count": 16,
   "metadata": {},
   "outputs": [
    {
     "name": "stdout",
     "output_type": "stream",
     "text": [
      "  year  artist_name    album_name     city\n",
      "------  -------------  -------------  ------\n",
      "  1965  The Beatles    Rubber Soul    Oxford\n",
      "  1965  The Who        My Generation  London\n"
     ]
    }
   ],
   "source": [
    "query_1 = \"SELECT * from music_library where year = 1965\"\n",
    "\n",
    "_ = print_query(session, query_1)"
   ]
  },
  {
   "cell_type": "markdown",
   "metadata": {},
   "source": [
    " Let's try the 2nd query.\n",
    " Query 2: _Give me the album that is in my music library that was released in 1965 by \"The Beatles\"_"
   ]
  },
  {
   "cell_type": "code",
   "execution_count": 17,
   "metadata": {},
   "outputs": [
    {
     "name": "stdout",
     "output_type": "stream",
     "text": [
      "  year  artist_name    album_name    city\n",
      "------  -------------  ------------  ------\n",
      "  1965  The Beatles    Rubber Soul   Oxford\n"
     ]
    }
   ],
   "source": [
    "query_2 = \"SELECT * from music_library where year = 1965 and artist_name = 'The Beatles'\"\n",
    "\n",
    "_ = print_query(session, query_2)"
   ]
  },
  {
   "cell_type": "markdown",
   "metadata": {},
   "source": [
    "### Let's try the 3rd query.\n",
    "Query 3: _Give me all the albums released in a given year that was made in London_"
   ]
  },
  {
   "cell_type": "code",
   "execution_count": 18,
   "metadata": {},
   "outputs": [
    {
     "name": "stdout",
     "output_type": "stream",
     "text": [
      "Error from server: code=2200 [Invalid query] message=\"Cannot execute this query as it might involve data filtering and thus may have unpredictable performance. If you want to execute this query despite the performance unpredictability, use ALLOW FILTERING\"\n"
     ]
    },
    {
     "ename": "AttributeError",
     "evalue": "'NoneType' object has no attribute 'column_names'",
     "output_type": "error",
     "traceback": [
      "\u001b[0;31m---------------------------------------------------------------------------\u001b[0m",
      "\u001b[0;31mAttributeError\u001b[0m                            Traceback (most recent call last)",
      "\u001b[0;32m<ipython-input-18-0b1f785ae518>\u001b[0m in \u001b[0;36m<module>\u001b[0;34m\u001b[0m\n\u001b[1;32m      1\u001b[0m \u001b[0mquery_3\u001b[0m \u001b[0;34m=\u001b[0m \u001b[0;34m\"SELECT * from music_library where city = 'London'\"\u001b[0m\u001b[0;34m\u001b[0m\u001b[0;34m\u001b[0m\u001b[0m\n\u001b[1;32m      2\u001b[0m \u001b[0;34m\u001b[0m\u001b[0m\n\u001b[0;32m----> 3\u001b[0;31m \u001b[0mprint_query\u001b[0m\u001b[0;34m(\u001b[0m\u001b[0msession\u001b[0m\u001b[0;34m,\u001b[0m \u001b[0mquery_3\u001b[0m\u001b[0;34m)\u001b[0m\u001b[0;34m\u001b[0m\u001b[0;34m\u001b[0m\u001b[0m\n\u001b[0m",
      "\u001b[0;32m~/dev/Udacity-Data-Engineering/01-Data-Modeling/Exercises - Working/dend_cassandra_commons.py\u001b[0m in \u001b[0;36mprint_query\u001b[0;34m(session, query)\u001b[0m\n\u001b[1;32m     17\u001b[0m \u001b[0;34m\u001b[0m\u001b[0m\n\u001b[1;32m     18\u001b[0m     \u001b[0mresset\u001b[0m \u001b[0;34m=\u001b[0m \u001b[0mrun_query\u001b[0m\u001b[0;34m(\u001b[0m\u001b[0msession\u001b[0m\u001b[0;34m,\u001b[0m \u001b[0mquery\u001b[0m\u001b[0;34m)\u001b[0m\u001b[0;34m\u001b[0m\u001b[0;34m\u001b[0m\u001b[0m\n\u001b[0;32m---> 19\u001b[0;31m     \u001b[0;32mif\u001b[0m \u001b[0mresset\u001b[0m\u001b[0;34m.\u001b[0m\u001b[0mcolumn_names\u001b[0m \u001b[0;32mis\u001b[0m \u001b[0;32mnot\u001b[0m \u001b[0;32mNone\u001b[0m\u001b[0;34m:\u001b[0m\u001b[0;34m\u001b[0m\u001b[0;34m\u001b[0m\u001b[0m\n\u001b[0m\u001b[1;32m     20\u001b[0m         \u001b[0mcol_names\u001b[0m \u001b[0;34m=\u001b[0m \u001b[0mresset\u001b[0m\u001b[0;34m.\u001b[0m\u001b[0mcolumn_names\u001b[0m\u001b[0;34m\u001b[0m\u001b[0;34m\u001b[0m\u001b[0m\n\u001b[1;32m     21\u001b[0m \u001b[0;34m\u001b[0m\u001b[0m\n",
      "\u001b[0;31mAttributeError\u001b[0m: 'NoneType' object has no attribute 'column_names'"
     ]
    }
   ],
   "source": [
    "query_3 = \"SELECT * from music_library where city = 'London'\"\n",
    "\n",
    "print_query(session, query_3)"
   ]
  },
  {
   "cell_type": "markdown",
   "metadata": {},
   "source": [
    "### Did you get an error? You can not try to access a column or a clustering column if you have not used the other defined clustering column. Let's see if we can try it a different way. \n",
    "Try Query 4: _Give me the city that the album \"Rubber Soul\" was recorded_\n",
    "\n"
   ]
  },
  {
   "cell_type": "code",
   "execution_count": 19,
   "metadata": {},
   "outputs": [
    {
     "name": "stdout",
     "output_type": "stream",
     "text": [
      "city\n",
      "------\n",
      "London\n"
     ]
    }
   ],
   "source": [
    "query_4 = \"SELECT city from music_library where year = 1965 and artist_name = 'The Who'\" \n",
    "\n",
    "_ = print_query(session, query_4)"
   ]
  },
  {
   "cell_type": "code",
   "execution_count": 20,
   "metadata": {},
   "outputs": [
    {
     "name": "stdout",
     "output_type": "stream",
     "text": [
      "Error from server: code=2200 [Invalid query] message=\"PRIMARY KEY column \"album_name\" cannot be restricted as preceding column \"artist_name\" is not restricted\"\n"
     ]
    },
    {
     "ename": "AttributeError",
     "evalue": "'NoneType' object has no attribute 'column_names'",
     "output_type": "error",
     "traceback": [
      "\u001b[0;31m---------------------------------------------------------------------------\u001b[0m",
      "\u001b[0;31mAttributeError\u001b[0m                            Traceback (most recent call last)",
      "\u001b[0;32m<ipython-input-20-0b3fea257446>\u001b[0m in \u001b[0;36m<module>\u001b[0;34m\u001b[0m\n\u001b[1;32m      1\u001b[0m \u001b[0mquery_4_1\u001b[0m \u001b[0;34m=\u001b[0m \u001b[0;34m\"select city from music_library where album_name = 'Rubber Soul'\"\u001b[0m\u001b[0;34m\u001b[0m\u001b[0;34m\u001b[0m\u001b[0m\n\u001b[1;32m      2\u001b[0m \u001b[0;34m\u001b[0m\u001b[0m\n\u001b[0;32m----> 3\u001b[0;31m \u001b[0m_\u001b[0m \u001b[0;34m=\u001b[0m \u001b[0mprint_query\u001b[0m\u001b[0;34m(\u001b[0m\u001b[0msession\u001b[0m\u001b[0;34m,\u001b[0m \u001b[0mquery_4_1\u001b[0m\u001b[0;34m)\u001b[0m\u001b[0;34m\u001b[0m\u001b[0;34m\u001b[0m\u001b[0m\n\u001b[0m",
      "\u001b[0;32m~/dev/Udacity-Data-Engineering/01-Data-Modeling/Exercises - Working/dend_cassandra_commons.py\u001b[0m in \u001b[0;36mprint_query\u001b[0;34m(session, query)\u001b[0m\n\u001b[1;32m     17\u001b[0m \u001b[0;34m\u001b[0m\u001b[0m\n\u001b[1;32m     18\u001b[0m     \u001b[0mresset\u001b[0m \u001b[0;34m=\u001b[0m \u001b[0mrun_query\u001b[0m\u001b[0;34m(\u001b[0m\u001b[0msession\u001b[0m\u001b[0;34m,\u001b[0m \u001b[0mquery\u001b[0m\u001b[0;34m)\u001b[0m\u001b[0;34m\u001b[0m\u001b[0;34m\u001b[0m\u001b[0m\n\u001b[0;32m---> 19\u001b[0;31m     \u001b[0;32mif\u001b[0m \u001b[0mresset\u001b[0m\u001b[0;34m.\u001b[0m\u001b[0mcolumn_names\u001b[0m \u001b[0;32mis\u001b[0m \u001b[0;32mnot\u001b[0m \u001b[0;32mNone\u001b[0m\u001b[0;34m:\u001b[0m\u001b[0;34m\u001b[0m\u001b[0;34m\u001b[0m\u001b[0m\n\u001b[0m\u001b[1;32m     20\u001b[0m         \u001b[0mcol_names\u001b[0m \u001b[0;34m=\u001b[0m \u001b[0mresset\u001b[0m\u001b[0;34m.\u001b[0m\u001b[0mcolumn_names\u001b[0m\u001b[0;34m\u001b[0m\u001b[0;34m\u001b[0m\u001b[0m\n\u001b[1;32m     21\u001b[0m \u001b[0;34m\u001b[0m\u001b[0m\n",
      "\u001b[0;31mAttributeError\u001b[0m: 'NoneType' object has no attribute 'column_names'"
     ]
    }
   ],
   "source": [
    "query_4_1 = \"select city from music_library where album_name = 'Rubber Soul'\"\n",
    "\n",
    "_ = print_query(session, query_4_1)"
   ]
  },
  {
   "cell_type": "code",
   "execution_count": 21,
   "metadata": {},
   "outputs": [
    {
     "name": "stdout",
     "output_type": "stream",
     "text": [
      "city\n",
      "------\n",
      "Oxford\n"
     ]
    }
   ],
   "source": [
    "query_4 = \"SELECT city from music_library where year = 1965 and artist_name = 'The Beatles'\" \n",
    "\n",
    "_ = print_query(session, query_4)"
   ]
  },
  {
   "cell_type": "markdown",
   "metadata": {},
   "source": [
    "### And Finally close the session and cluster connection"
   ]
  },
  {
   "cell_type": "code",
   "execution_count": 22,
   "metadata": {},
   "outputs": [],
   "source": [
    "session.shutdown()\n",
    "cluster.shutdown()"
   ]
  },
  {
   "cell_type": "markdown",
   "metadata": {},
   "source": [
    "<h2><span style='color:blue'>Remove Environment</span></h2>"
   ]
  },
  {
   "cell_type": "code",
   "execution_count": 23,
   "metadata": {},
   "outputs": [
    {
     "name": "stdout",
     "output_type": "stream",
     "text": [
      "release \"dend-l3e4\" uninstalled\n"
     ]
    }
   ],
   "source": [
    "# Removes chart instances\n",
    "!helm uninstall {CHART_INSTANCE_NAME}"
   ]
  },
  {
   "cell_type": "code",
   "execution_count": 24,
   "metadata": {},
   "outputs": [
    {
     "name": "stdout",
     "output_type": "stream",
     "text": [
      "kubectl delete pvc data-dend-l3e4-cassandra-0\n",
      "persistentvolumeclaim \"data-dend-l3e4-cassandra-0\" deleted\n"
     ]
    }
   ],
   "source": [
    "# Removes persistent Volume\n",
    "!kubectl get pvc|fgrep {CHART_INSTANCE_NAME}|cut -d ' '  -f1| xargs -t kubectl delete pvc"
   ]
  },
  {
   "cell_type": "code",
   "execution_count": 25,
   "metadata": {},
   "outputs": [
    {
     "name": "stdout",
     "output_type": "stream",
     "text": [
      "No resources found in default namespace.\n"
     ]
    }
   ],
   "source": [
    "!kubectl get pvc"
   ]
  },
  {
   "cell_type": "code",
   "execution_count": null,
   "metadata": {},
   "outputs": [],
   "source": []
  }
 ],
 "metadata": {
  "kernelspec": {
   "display_name": "Python 3",
   "language": "python",
   "name": "python3"
  },
  "language_info": {
   "codemirror_mode": {
    "name": "ipython",
    "version": 3
   },
   "file_extension": ".py",
   "mimetype": "text/x-python",
   "name": "python",
   "nbconvert_exporter": "python",
   "pygments_lexer": "ipython3",
   "version": "3.7.3"
  }
 },
 "nbformat": 4,
 "nbformat_minor": 4
}
