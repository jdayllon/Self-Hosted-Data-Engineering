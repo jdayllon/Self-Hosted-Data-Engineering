{
 "cells": [
  {
   "cell_type": "markdown",
   "metadata": {},
   "source": [
    "# L3 Exercise 3: Focus on Clustering Columns\n",
    "<img src=\"https://upload.wikimedia.org/wikipedia/commons/5/5e/Cassandra_logo.svg\" width=\"250\" height=\"250\">"
   ]
  },
  {
   "cell_type": "markdown",
   "metadata": {},
   "source": [
    "### Walk through the basics of creating a table with a good Primary Key and Clustering Columns in Apache Cassandra, inserting rows of data, and doing a simple CQL query to validate the information."
   ]
  },
  {
   "cell_type": "markdown",
   "metadata": {},
   "source": [
    "#### We will use a python wrapper/ python driver called cassandra to run the Apache Cassandra queries. This library should be preinstalled but in the future to install this library you can run this command in a notebook to install locally: \n",
    "! pip install cassandra-driver\n",
    "#### More documentation can be found here:  https://datastax.github.io/python-driver/"
   ]
  },
  {
   "cell_type": "markdown",
   "metadata": {},
   "source": [
    "<h3><span style='color:blue'>Using K8S Cassandra</span></h3>\n",
    "​\n",
    "Obviously you need a k8s avaible like: Minikube, Minishift, Docker (with K8s)\n",
    "​\n",
    "Helm is need to, go to [helm.sh](http://helm.sh)"
   ]
  },
  {
   "cell_type": "code",
   "execution_count": 1,
   "metadata": {},
   "outputs": [],
   "source": [
    "#Checks if Helm V3 is available\n",
    "helm_version = !helm version --short\n",
    "assert helm_version[0][:2] == 'v3', \"Expected HELM version not available, visit https://helm.sh\""
   ]
  },
  {
   "cell_type": "code",
   "execution_count": 2,
   "metadata": {},
   "outputs": [
    {
     "name": "stdout",
     "output_type": "stream",
     "text": [
      "\"bitnami\" has been added to your repositories\n"
     ]
    }
   ],
   "source": [
    "!helm repo add bitnami https://charts.bitnami.com/bitnami"
   ]
  },
  {
   "cell_type": "code",
   "execution_count": 3,
   "metadata": {},
   "outputs": [],
   "source": [
    "CHART_INSTANCE_NAME = 'dend-l3e3'\n",
    "CASSANDRA_KEYSPACE = CHART_INSTANCE_NAME.replace('-','_')\n",
    "CASSANDRA_PASSWORD = 'password'"
   ]
  },
  {
   "cell_type": "code",
   "execution_count": 4,
   "metadata": {},
   "outputs": [
    {
     "name": "stdout",
     "output_type": "stream",
     "text": [
      "Overwriting dend-cassandra-customize.yaml\n"
     ]
    }
   ],
   "source": [
    "%%writefile dend-cassandra-customize.yaml\n",
    "service:\n",
    "    type: NodePort\n",
    "    nodePorts:\n",
    "        cql: 30942\n",
    "        rcp: 30160\n",
    "dbUser:\n",
    "    user: cassandra\n",
    "    password: password"
   ]
  },
  {
   "cell_type": "code",
   "execution_count": 5,
   "metadata": {},
   "outputs": [],
   "source": [
    "helm_chart_out = !helm install {CHART_INSTANCE_NAME} bitnami/cassandra --values dend-cassandra-customize.yaml\n",
    "#for c_out in helm_chart_out: print(c_out)"
   ]
  },
  {
   "cell_type": "code",
   "execution_count": 6,
   "metadata": {},
   "outputs": [],
   "source": [
    "#Thanks to @reuvenharrison https://medium.com/@reuvenharrison/how-to-wait-for-a-kubernetes-pod-to-be-ready-one-liner-144bbbb5a76f\n",
    "!while [[ $(kubectl get pods -l app=cassandra -o 'jsonpath={..status.conditions[?(@.type==\"Ready\")].status}') != \"True\" ]]; do echo \"Waiting for Cassandra pod to be ready\" && sleep 5; done"
   ]
  },
  {
   "cell_type": "code",
   "execution_count": 7,
   "metadata": {},
   "outputs": [
    {
     "name": "stdout",
     "output_type": "stream",
     "text": [
      "NAME                        READY   STATUS    RESTARTS   AGE\n",
      "pod/dend-l3e3-cassandra-0   1/1     Running   0          6m35s\n",
      "\n",
      "NAME                                   TYPE        CLUSTER-IP      EXTERNAL-IP   PORT(S)                                        AGE\n",
      "service/dend-l3e3-cassandra            NodePort    10.99.154.169   <none>        9042:30942/TCP,9160:31756/TCP                  6m35s\n",
      "service/dend-l3e3-cassandra-headless   ClusterIP   None            <none>        7000/TCP,7001/TCP,7199/TCP,9042/TCP,9160/TCP   6m35s\n",
      "service/kubernetes                     ClusterIP   10.96.0.1       <none>        443/TCP                                        11m\n"
     ]
    }
   ],
   "source": [
    "!kubectl get pods,svc"
   ]
  },
  {
   "cell_type": "code",
   "execution_count": 12,
   "metadata": {},
   "outputs": [],
   "source": [
    "installed_tabulate = !pip list|fgrep tabulate\n",
    "if len(installed_tabulate) == 0:\n",
    "    !pip install tabulate\n",
    "\n",
    "from dend_cassandra_commons import run_query, print_query"
   ]
  },
  {
   "cell_type": "markdown",
   "metadata": {},
   "source": [
    "#### Import Apache Cassandra python package"
   ]
  },
  {
   "cell_type": "code",
   "execution_count": 8,
   "metadata": {},
   "outputs": [],
   "source": [
    "import cassandra"
   ]
  },
  {
   "cell_type": "markdown",
   "metadata": {},
   "source": [
    "### Create a connection to the database"
   ]
  },
  {
   "cell_type": "code",
   "execution_count": 9,
   "metadata": {},
   "outputs": [
    {
     "name": "stdout",
     "output_type": "stream",
     "text": [
      "[<Host: 127.0.0.1:30942 datacenter1>]\n"
     ]
    }
   ],
   "source": [
    "# This should make a connection to a Cassandra instance your kubernetes instance\n",
    "from cassandra.cluster import Cluster\n",
    "from cassandra.auth import PlainTextAuthProvider\n",
    "\n",
    "try: \n",
    "    # Added connection auth for bitnami / helm / cassandra bundle\n",
    "    auth_provider = PlainTextAuthProvider(username='cassandra', password='password')\n",
    "    cluster = Cluster(['127.0.0.1'], port=30942, auth_provider=auth_provider) #If you have a locally installed Apache Cassandra instance\n",
    "    session = cluster.connect()\n",
    "    print(session.hosts)\n",
    "except Exception as e:\n",
    "    print(f\"Error: {e}\")"
   ]
  },
  {
   "cell_type": "markdown",
   "metadata": {},
   "source": [
    "### Create a keyspace to work in "
   ]
  },
  {
   "cell_type": "code",
   "execution_count": 10,
   "metadata": {},
   "outputs": [],
   "source": [
    "try:\n",
    "    session.execute(f\"\"\"\n",
    "    CREATE KEYSPACE IF NOT EXISTS {CASSANDRA_KEYSPACE}\n",
    "    WITH REPLICATION = \n",
    "    {{ 'class' : 'SimpleStrategy', 'replication_factor' : 1 }}\"\"\"\n",
    ")\n",
    "\n",
    "except Exception as e:\n",
    "    print(e)"
   ]
  },
  {
   "cell_type": "markdown",
   "metadata": {},
   "source": [
    "#### Connect to our Keyspace. Compare this to how we had to create a new session in PostgreSQL.  "
   ]
  },
  {
   "cell_type": "code",
   "execution_count": 11,
   "metadata": {},
   "outputs": [],
   "source": [
    "try:\n",
    "    session.set_keyspace(CASSANDRA_KEYSPACE)\n",
    "except Exception as e:\n",
    "    print(e)"
   ]
  },
  {
   "cell_type": "markdown",
   "metadata": {},
   "source": [
    "### Imagine we would like to start creating a new Music Library of albums. \n",
    "\n",
    "### We want to ask 1 question of our data:\n",
    "#### 1. Give me all the information from the music library about a given album\n",
    "`select * from album_library WHERE album_name=\"Close To You\"`\n"
   ]
  },
  {
   "cell_type": "markdown",
   "metadata": {},
   "source": [
    "### Here is the Data:\n",
    "* \"Let it Be\", \"The Beatles\", 1970, \"Liverpool\"\n",
    "* \"Rubber Soul\", \"The Beatles\", 1965, \"Oxford\"\n",
    "* \"Beatles For Sale\", \"The Beatles\", 1964, \"London\"\n",
    "* \"The Monkees\", \"The Monkees\", 1966, \"Los Angeles\"\n",
    "* \"Close To You\", \"The Carpenters\", 1970, \"San Diego\""
   ]
  },
  {
   "cell_type": "markdown",
   "metadata": {},
   "source": [
    "### How should we model this data? What should be our Primary Key and Partition Key? \n",
    "\n",
    "### Since the data is looking for the `ALBUM_NAME` let's start with that. From there we will need to add other elements to make sure the Key is unique. We also need to add the  `ARTIST_NAME` as Clustering Columns to make the data unique. That should be enough to make the row key unique.\n",
    "\n",
    "`Table Name: music_library\n",
    "column 1: Year\n",
    "column 2: Artist Name\n",
    "column 3: Album Name\n",
    "Column 4: City\n",
    "PRIMARY KEY(album name, artist name)`"
   ]
  },
  {
   "cell_type": "code",
   "execution_count": 14,
   "metadata": {},
   "outputs": [],
   "source": [
    "query = \"CREATE TABLE IF NOT EXISTS music_library \"\n",
    "query = query + \"(album_name text, artist_name text, year int, city text, PRIMARY KEY (album_name, artist_name))\"\n",
    "try:\n",
    "    session.execute(query)\n",
    "except Exception as e:\n",
    "    print(e)"
   ]
  },
  {
   "cell_type": "markdown",
   "metadata": {},
   "source": [
    "### Insert the data into the table"
   ]
  },
  {
   "cell_type": "code",
   "execution_count": 15,
   "metadata": {},
   "outputs": [],
   "source": [
    "query = \"INSERT INTO music_library (album_name, artist_name, year, city)\"\n",
    "query = query + \" VALUES (%s, %s, %s, %s)\"\n",
    "\n",
    "    \n",
    "music_lib_ins_query =  \"INSERT INTO music_library (album_name, artist_name, year, city)\"\n",
    "music_lib_ins_query += \" VALUES (%s, %s, %s, %s)\"\n",
    "\n",
    "music_library_data = [\n",
    "    (\"Let it Be\", \"The Beatles\", 1970, \"Liverpool\"),\n",
    "    (\"Rubber Soul\", \"The Beatles\", 1965, \"Oxford\"),\n",
    "    (\"Beatles For Sale\", \"The Beatles\", 1964, \"London\"),\n",
    "    (\"The Monkees\", \"The Monkees\", 1966, \"Los Angeles\"),\n",
    "    (\"Close To You\", \"The Carpenters\", 1970, \"San Diego\"),\n",
    "]\n",
    "\n",
    "for ele in music_library_data:\n",
    "    run_query(session, music_lib_ins_query, ele)"
   ]
  },
  {
   "cell_type": "code",
   "execution_count": 16,
   "metadata": {},
   "outputs": [
    {
     "name": "stdout",
     "output_type": "stream",
     "text": [
      "album_name        artist_name     city           year\n",
      "----------------  --------------  -----------  ------\n",
      "Let it Be         The Beatles     Liverpool      1970\n",
      "Rubber Soul       The Beatles     Oxford         1965\n",
      "The Monkees       The Monkees     Los Angeles    1966\n",
      "Close To You      The Carpenters  San Diego      1970\n",
      "Beatles For Sale  The Beatles     London         1964\n",
      "None\n"
     ]
    }
   ],
   "source": [
    "music_lib_sel_query_all = \"select * from music_library\"\n",
    "print(print_query(session, music_lib_sel_query_all))"
   ]
  },
  {
   "cell_type": "markdown",
   "metadata": {},
   "source": [
    "### Validate the Data Model -- Did it work?\n",
    "`select * from album_library WHERE album_name=\"Close To You\"`"
   ]
  },
  {
   "cell_type": "code",
   "execution_count": 17,
   "metadata": {},
   "outputs": [
    {
     "name": "stdout",
     "output_type": "stream",
     "text": [
      "album_name    artist_name     city         year\n",
      "------------  --------------  ---------  ------\n",
      "Close To You  The Carpenters  San Diego    1970\n",
      "None\n"
     ]
    }
   ],
   "source": [
    "music_lib_sel_query = \"select * from music_library WHERE album_NAME='Close To You'\"\n",
    "\n",
    "print(print_query(session, music_lib_sel_query))"
   ]
  },
  {
   "cell_type": "markdown",
   "metadata": {},
   "source": [
    "### Success it worked! We created a unique Primary key that evenly distributed our data, with clustering columns"
   ]
  },
  {
   "cell_type": "markdown",
   "metadata": {},
   "source": [
    "### For the sake of the demo, drop the table"
   ]
  },
  {
   "cell_type": "code",
   "execution_count": 18,
   "metadata": {},
   "outputs": [],
   "source": [
    "query = \"drop table music_library\"\n",
    "try:\n",
    "    rows = session.execute(query)\n",
    "except Exception as e:\n",
    "    print(e)\n"
   ]
  },
  {
   "cell_type": "markdown",
   "metadata": {},
   "source": [
    "### Close the session and cluster connection"
   ]
  },
  {
   "cell_type": "code",
   "execution_count": 19,
   "metadata": {},
   "outputs": [],
   "source": [
    "session.shutdown()\n",
    "cluster.shutdown()"
   ]
  },
  {
   "cell_type": "markdown",
   "metadata": {},
   "source": [
    "<h2><span style='color:blue'>Remove Environment</span></h2>"
   ]
  },
  {
   "cell_type": "code",
   "execution_count": 20,
   "metadata": {},
   "outputs": [
    {
     "name": "stdout",
     "output_type": "stream",
     "text": [
      "release \"dend-l3e3\" uninstalled\n"
     ]
    }
   ],
   "source": [
    "# Removes chart instances\n",
    "!helm uninstall {CHART_INSTANCE_NAME}"
   ]
  },
  {
   "cell_type": "code",
   "execution_count": 21,
   "metadata": {},
   "outputs": [
    {
     "name": "stdout",
     "output_type": "stream",
     "text": [
      "kubectl delete pvc data-dend-l3e3-cassandra-0\n",
      "persistentvolumeclaim \"data-dend-l3e3-cassandra-0\" deleted\n"
     ]
    }
   ],
   "source": [
    "# Removes persistent Volume\n",
    "!kubectl get pvc|fgrep {CHART_INSTANCE_NAME}|cut -d ' '  -f1| xargs -t kubectl delete pvc"
   ]
  },
  {
   "cell_type": "code",
   "execution_count": 22,
   "metadata": {},
   "outputs": [
    {
     "name": "stdout",
     "output_type": "stream",
     "text": [
      "No resources found in default namespace.\n"
     ]
    }
   ],
   "source": [
    "!kubectl get pvc"
   ]
  }
 ],
 "metadata": {
  "kernelspec": {
   "display_name": "Python 3",
   "language": "python",
   "name": "python3"
  },
  "language_info": {
   "codemirror_mode": {
    "name": "ipython",
    "version": 3
   },
   "file_extension": ".py",
   "mimetype": "text/x-python",
   "name": "python",
   "nbconvert_exporter": "python",
   "pygments_lexer": "ipython3",
   "version": "3.7.3"
  }
 },
 "nbformat": 4,
 "nbformat_minor": 4
}
